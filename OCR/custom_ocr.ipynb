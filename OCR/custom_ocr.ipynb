{
 "cells": [
  {
   "cell_type": "code",
   "execution_count": 1,
   "metadata": {
    "metadata": {}
   },
   "outputs": [],
   "source": [
    "import pandas as pd\n",
    "\n",
    "data_path = \"../DataPreProcessing/.out/license_plates.csv\"\n",
    "image_path = \"../OCR/data/LP-characters/images\"\n",
    "\n",
    "data = pd.read_csv(data_path)"
   ]
  },
  {
   "cell_type": "code",
   "execution_count": 18,
   "metadata": {
    "metadata": {}
   },
   "outputs": [
    {
     "data": {
      "text/plain": [
       "plate          MH15TC554\n",
       "filename        0000.xml\n",
       "char0                  M\n",
       "coord0       13-17-27-32\n",
       "char1                  H\n",
       "coord1       25-16-38-33\n",
       "char2                  1\n",
       "coord2       36-16-46-34\n",
       "char3                  5\n",
       "coord3       45-16-55-33\n",
       "char4                  T\n",
       "coord4       58-16-69-33\n",
       "char5                  C\n",
       "coord5       67-16-78-33\n",
       "char6                  5\n",
       "coord6       82-16-92-33\n",
       "char7                  5\n",
       "coord7      91-16-100-33\n",
       "char8                  4\n",
       "coord8      98-16-109-33\n",
       "char9                NaN\n",
       "coord9               NaN\n",
       "char10               NaN\n",
       "coord10              NaN\n",
       "char11               NaN\n",
       "coord11              NaN\n",
       "char12               NaN\n",
       "coord12              NaN\n",
       "char13               NaN\n",
       "coord13              NaN\n",
       "char14               NaN\n",
       "coord14              NaN\n",
       "char15               NaN\n",
       "coord15              NaN\n",
       "char16               NaN\n",
       "coord16              NaN\n",
       "char17               NaN\n",
       "coord17              NaN\n",
       "char18               NaN\n",
       "coord18              NaN\n",
       "char19               NaN\n",
       "coord19              NaN\n",
       "char20               NaN\n",
       "coord20              NaN\n",
       "char21               NaN\n",
       "coord21              NaN\n",
       "char22               NaN\n",
       "coord22              NaN\n",
       "char23               NaN\n",
       "coord23              NaN\n",
       "char24               NaN\n",
       "coord24              NaN\n",
       "char25               NaN\n",
       "coord25              NaN\n",
       "char26               NaN\n",
       "coord26              NaN\n",
       "char27               NaN\n",
       "coord27              NaN\n",
       "Name: 0, dtype: object"
      ]
     },
     "execution_count": 18,
     "metadata": {},
     "output_type": "execute_result"
    }
   ],
   "source": [
    "data.iloc[0]"
   ]
  },
  {
   "cell_type": "code",
   "execution_count": 181,
   "metadata": {
    "metadata": {}
   },
   "outputs": [],
   "source": [
    "import PIL as pil\n",
    "from PIL import Image\n",
    "from skimage.feature import hog\n",
    "import matplotlib.pyplot as plt\n",
    "import cv2\n",
    "\n",
    "def grab_bbs(row):\n",
    "    img = cv2.imread(f\"{image_path}/{row['filename'].split('.')[0]}.png\", 0)\n",
    "\n",
    "    bbs = []\n",
    "    charcoords = row[2:]\n",
    "    charcoords = charcoords[charcoords.notnull()]\n",
    "    for i in range(0, len(charcoords), 2):\n",
    "        char = charcoords[i]\n",
    "        coords = charcoords[i+1]\n",
    "        xmin, ymin, xmax, ymax = [int(x) for x in coords.split(\"-\")]\n",
    "        # crop image to bounding box\n",
    "        char_img = img[ymin:ymax, xmin:xmax]\n",
    "\n",
    "        # scale image\n",
    "        char_img = cv2.resize(char_img, (64, 64))\n",
    "        \n",
    "        #plt.figure()\n",
    "        hog_img = hog(char_img, orientations=9, pixels_per_cell=(4,4), cells_per_block=(1, 1))\n",
    "        #plt.imshow(hog_img,cmap='gray')\n",
    "\n",
    "        bbs.append((char, hog_img))\n",
    "\n",
    "    return bbs"
   ]
  },
  {
   "cell_type": "code",
   "execution_count": 182,
   "metadata": {
    "metadata": {}
   },
   "outputs": [
    {
     "data": {
      "text/plain": [
       "[('H',\n",
       "  array([0.0698168 , 0.55291212, 0.55291212, ..., 0.        , 0.        ,\n",
       "         0.        ])),\n",
       " ('R',\n",
       "  array([0.39750583, 0.        , 0.5297764 , ..., 0.        , 0.        ,\n",
       "         0.31085804])),\n",
       " ('6',\n",
       "  array([0.        , 0.        , 0.        , ..., 0.47953199, 0.47953199,\n",
       "         0.        ])),\n",
       " ('9',\n",
       "  array([0.41750283, 0.        , 0.        , ..., 0.        , 0.        ,\n",
       "         0.        ])),\n",
       " ('6',\n",
       "  array([0.5       , 0.        , 0.        , ..., 0.35659201, 0.35659201,\n",
       "         0.        ])),\n",
       " ('9',\n",
       "  array([0.4472136, 0.       , 0.       , ..., 0.       , 0.       ,\n",
       "         0.       ])),\n",
       " ('6',\n",
       "  array([0.15892883, 0.        , 0.        , ..., 0.        , 0.        ,\n",
       "         0.        ])),\n",
       " ('9',\n",
       "  array([0.26411931, 0.        , 0.        , ..., 0.        , 0.        ,\n",
       "         0.        ]))]"
      ]
     },
     "execution_count": 182,
     "metadata": {},
     "output_type": "execute_result"
    }
   ],
   "source": [
    "grab_bbs(data.iloc[5])"
   ]
  },
  {
   "cell_type": "code",
   "execution_count": 4,
   "metadata": {},
   "outputs": [
    {
     "data": {
      "text/plain": [
       "<matplotlib.image.AxesImage at 0x242c1d6f110>"
      ]
     },
     "execution_count": 4,
     "metadata": {},
     "output_type": "execute_result"
    },
    {
     "data": {
      "image/png": "[encoded data removed]",
      "text/plain": [
       "<Figure size 640x480 with 1 Axes>"
      ]
     },
     "metadata": {},
     "output_type": "display_data"
    }
   ],
   "source": [
    "import matplotlib.pyplot as plt\n",
    "import cv2\n",
    "from skimage.feature import hog\n",
    "\n",
    "\n",
    "im_test = cv2.imread('ocr_data/train/A/roi107644.jpg',0)\n",
    "_,hog_img= hog(im_test,orientations=9,pixels_per_cell=(8,8), cells_per_block=(1, 1),visualize=True)\n",
    "plt.imshow(hog_img,cmap='gray')"
   ]
  }
 ],
 "metadata": {
  "kernelspec": {
   "display_name": "Python 3",
   "language": "python",
   "name": "python3"
  },
  "language_info": {
   "codemirror_mode": {
    "name": "ipython",
    "version": 3
   },
   "file_extension": ".py",
   "mimetype": "text/x-python",
   "name": "python",
   "nbconvert_exporter": "python",
   "pygments_lexer": "ipython3",
   "version": "3.11.4"
  }
 },
 "nbformat": 4,
 "nbformat_minor": 2
}
