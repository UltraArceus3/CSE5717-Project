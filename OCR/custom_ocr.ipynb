{
 "cells": [
  {
   "cell_type": "code",
   "execution_count": 1,
   "metadata": {
    "metadata": {}
   },
   "outputs": [],
   "source": [
    "import pandas as pd\n",
    "\n",
    "data_path = \"../DataPreProcessing/.out/license_plates.csv\"\n",
    "image_path = \"../OCR/data/LP-characters/images\"\n",
    "\n",
    "data = pd.read_csv(data_path, dtype=str)"
   ]
  },
  {
   "cell_type": "code",
   "execution_count": 2,
   "metadata": {
    "metadata": {}
   },
   "outputs": [
    {
     "data": {
      "text/plain": [
       "plate          MH15TC554\n",
       "filename        0000.xml\n",
       "char0                  M\n",
       "coord0       13-17-27-32\n",
       "char1                  H\n",
       "coord1       25-16-38-33\n",
       "char2                  1\n",
       "coord2       36-16-46-34\n",
       "char3                  5\n",
       "coord3       45-16-55-33\n",
       "char4                  T\n",
       "coord4       58-16-69-33\n",
       "char5                  C\n",
       "coord5       67-16-78-33\n",
       "char6                  5\n",
       "coord6       82-16-92-33\n",
       "char7                  5\n",
       "coord7      91-16-100-33\n",
       "char8                  4\n",
       "coord8      98-16-109-33\n",
       "char9                NaN\n",
       "coord9               NaN\n",
       "char10               NaN\n",
       "coord10              NaN\n",
       "char11               NaN\n",
       "coord11              NaN\n",
       "char12               NaN\n",
       "coord12              NaN\n",
       "char13               NaN\n",
       "coord13              NaN\n",
       "char14               NaN\n",
       "coord14              NaN\n",
       "char15               NaN\n",
       "coord15              NaN\n",
       "char16               NaN\n",
       "coord16              NaN\n",
       "char17               NaN\n",
       "coord17              NaN\n",
       "char18               NaN\n",
       "coord18              NaN\n",
       "char19               NaN\n",
       "coord19              NaN\n",
       "char20               NaN\n",
       "coord20              NaN\n",
       "char21               NaN\n",
       "coord21              NaN\n",
       "char22               NaN\n",
       "coord22              NaN\n",
       "char23               NaN\n",
       "coord23              NaN\n",
       "char24               NaN\n",
       "coord24              NaN\n",
       "char25               NaN\n",
       "coord25              NaN\n",
       "char26               NaN\n",
       "coord26              NaN\n",
       "char27               NaN\n",
       "coord27              NaN\n",
       "Name: 0, dtype: object"
      ]
     },
     "execution_count": 2,
     "metadata": {},
     "output_type": "execute_result"
    }
   ],
   "source": [
    "data.iloc[0]"
   ]
  },
  {
   "cell_type": "code",
   "execution_count": 3,
   "metadata": {
    "metadata": {}
   },
   "outputs": [],
   "source": [
    "import PIL as pil\n",
    "from PIL import Image\n",
    "from skimage.feature import hog\n",
    "import matplotlib.pyplot as plt\n",
    "import cv2\n",
    "\n",
    "def prepare_img(img, xmin, ymin, xmax, ymax):\n",
    "        # crop image to bounding box\n",
    "        char_img = img[ymin:ymax, xmin:xmax]\n",
    "\n",
    "        # scale image\n",
    "        char_img = cv2.resize(char_img, (64, 64))\n",
    "        #plt.figure()\n",
    "        hog_img = hog(char_img, orientations=9, pixels_per_cell=(4,4), cells_per_block=(1, 1))\n",
    "\n",
    "        return hog_img\n",
    "\n",
    "def grab_bbs(row):\n",
    "    img = cv2.imread(f\"{image_path}/{row['filename'].split('.')[0]}.png\", 0)\n",
    "\n",
    "    bbs = []\n",
    "    charcoords = row[2:]\n",
    "    charcoords = charcoords[charcoords.notnull()]\n",
    "    \n",
    "    for i in range(0, len(charcoords), 2):\n",
    "        char = charcoords[i]\n",
    "        coords = charcoords[i+1]\n",
    "        \n",
    "        #xmin, ymin, xmax, ymax = [int(x) for x in coords.split(\"-\")]\n",
    "\n",
    "        #plt.imshow(hog_img,cmap='gray')\n",
    "\n",
    "        hog_img = prepare_img(img, *map(int, coords.split(\"-\")))\n",
    "\n",
    "        bbs.append((char, hog_img))\n",
    "\n",
    "    return bbs"
   ]
  },
  {
   "cell_type": "code",
   "execution_count": 4,
   "metadata": {
    "metadata": {}
   },
   "outputs": [
    {
     "data": {
      "text/plain": [
       "[('H',\n",
       "  array([0.0698168 , 0.55291212, 0.55291212, ..., 0.        , 0.        ,\n",
       "         0.        ])),\n",
       " ('R',\n",
       "  array([0.39750583, 0.        , 0.5297764 , ..., 0.        , 0.        ,\n",
       "         0.31085804])),\n",
       " ('6',\n",
       "  array([0.        , 0.        , 0.        , ..., 0.47953199, 0.47953199,\n",
       "         0.        ])),\n",
       " ('9',\n",
       "  array([0.41750283, 0.        , 0.        , ..., 0.        , 0.        ,\n",
       "         0.        ])),\n",
       " ('6',\n",
       "  array([0.5       , 0.        , 0.        , ..., 0.35659201, 0.35659201,\n",
       "         0.        ])),\n",
       " ('9',\n",
       "  array([0.4472136, 0.       , 0.       , ..., 0.       , 0.       ,\n",
       "         0.       ])),\n",
       " ('6',\n",
       "  array([0.15892883, 0.        , 0.        , ..., 0.        , 0.        ,\n",
       "         0.        ])),\n",
       " ('9',\n",
       "  array([0.26411931, 0.        , 0.        , ..., 0.        , 0.        ,\n",
       "         0.        ]))]"
      ]
     },
     "execution_count": 4,
     "metadata": {},
     "output_type": "execute_result"
    }
   ],
   "source": [
    "grab_bbs(data.iloc[5])"
   ]
  },
  {
   "cell_type": "code",
   "execution_count": 5,
   "metadata": {
    "metadata": {}
   },
   "outputs": [
    {
     "name": "stdout",
     "output_type": "stream",
     "text": [
      "6/209 \t\t\t\r"
     ]
    },
    {
     "ename": "KeyboardInterrupt",
     "evalue": "",
     "output_type": "error",
     "traceback": [
      "\u001b[1;31m---------------------------------------------------------------------------\u001b[0m",
      "\u001b[1;31mKeyboardInterrupt\u001b[0m                         Traceback (most recent call last)",
      "Cell \u001b[1;32mIn[5], line 14\u001b[0m\n\u001b[0;32m     11\u001b[0m         hogs \u001b[38;5;241m=\u001b[39m pd\u001b[38;5;241m.\u001b[39mDataFrame(columns\u001b[38;5;241m=\u001b[39m[\u001b[38;5;124m'\u001b[39m\u001b[38;5;124mchar\u001b[39m\u001b[38;5;124m'\u001b[39m] \u001b[38;5;241m+\u001b[39m [\u001b[38;5;124mf\u001b[39m\u001b[38;5;124m\"\u001b[39m\u001b[38;5;124mhog_\u001b[39m\u001b[38;5;132;01m{\u001b[39;00mi\u001b[38;5;132;01m}\u001b[39;00m\u001b[38;5;124m\"\u001b[39m \u001b[38;5;28;01mfor\u001b[39;00m i \u001b[38;5;129;01min\u001b[39;00m \u001b[38;5;28mrange\u001b[39m(num_features)] \u001b[38;5;241m+\u001b[39m [\u001b[38;5;124m'\u001b[39m\u001b[38;5;124mfilename\u001b[39m\u001b[38;5;124m'\u001b[39m])\n\u001b[0;32m     13\u001b[0m     \u001b[38;5;28;01mfor\u001b[39;00m char, hog_feat \u001b[38;5;129;01min\u001b[39;00m hog_features:\n\u001b[1;32m---> 14\u001b[0m         hogs \u001b[38;5;241m=\u001b[39m pd\u001b[38;5;241m.\u001b[39mconcat([hogs, \u001b[43mpd\u001b[49m\u001b[38;5;241;43m.\u001b[39;49m\u001b[43mDataFrame\u001b[49m\u001b[43m(\u001b[49m\u001b[43m[\u001b[49m\u001b[43m[\u001b[49m\u001b[43mchar\u001b[49m\u001b[43m]\u001b[49m\u001b[43m \u001b[49m\u001b[38;5;241;43m+\u001b[39;49m\u001b[43m \u001b[49m\u001b[38;5;28;43mlist\u001b[39;49m\u001b[43m(\u001b[49m\u001b[43mhog_feat\u001b[49m\u001b[43m)\u001b[49m\u001b[43m \u001b[49m\u001b[38;5;241;43m+\u001b[39;49m\u001b[43m \u001b[49m\u001b[43m[\u001b[49m\u001b[43mim\u001b[49m\u001b[43m[\u001b[49m\u001b[38;5;241;43m1\u001b[39;49m\u001b[43m]\u001b[49m\u001b[43m[\u001b[49m\u001b[38;5;124;43m'\u001b[39;49m\u001b[38;5;124;43mfilename\u001b[39;49m\u001b[38;5;124;43m'\u001b[39;49m\u001b[43m]\u001b[49m\u001b[43m]\u001b[49m\u001b[43m]\u001b[49m\u001b[43m,\u001b[49m\u001b[43m \u001b[49m\u001b[43mcolumns\u001b[49m\u001b[38;5;241;43m=\u001b[39;49m\u001b[43mhogs\u001b[49m\u001b[38;5;241;43m.\u001b[39;49m\u001b[43mcolumns\u001b[49m\u001b[43m)\u001b[49m])\n\u001b[0;32m     16\u001b[0m     i \u001b[38;5;241m+\u001b[39m\u001b[38;5;241m=\u001b[39m \u001b[38;5;241m1\u001b[39m\n\u001b[0;32m     17\u001b[0m hogs\u001b[38;5;241m.\u001b[39mto_csv(\u001b[38;5;124m\"\u001b[39m\u001b[38;5;124mdata/.out/license_plate_hogs.csv\u001b[39m\u001b[38;5;124m\"\u001b[39m, index\u001b[38;5;241m=\u001b[39m\u001b[38;5;28;01mFalse\u001b[39;00m)\n",
      "File \u001b[1;32mc:\\Users\\ranyk\\AppData\\Local\\Programs\\Python\\Python311\\Lib\\site-packages\\pandas\\core\\frame.py:790\u001b[0m, in \u001b[0;36mDataFrame.__init__\u001b[1;34m(self, data, index, columns, dtype, copy)\u001b[0m\n\u001b[0;32m    781\u001b[0m         columns \u001b[38;5;241m=\u001b[39m ensure_index(columns)\n\u001b[0;32m    782\u001b[0m     arrays, columns, index \u001b[38;5;241m=\u001b[39m nested_data_to_arrays(\n\u001b[0;32m    783\u001b[0m         \u001b[38;5;66;03m# error: Argument 3 to \"nested_data_to_arrays\" has incompatible\u001b[39;00m\n\u001b[0;32m    784\u001b[0m         \u001b[38;5;66;03m# type \"Optional[Collection[Any]]\"; expected \"Optional[Index]\"\u001b[39;00m\n\u001b[1;32m   (...)\u001b[0m\n\u001b[0;32m    788\u001b[0m         dtype,\n\u001b[0;32m    789\u001b[0m     )\n\u001b[1;32m--> 790\u001b[0m     mgr \u001b[38;5;241m=\u001b[39m \u001b[43marrays_to_mgr\u001b[49m\u001b[43m(\u001b[49m\n\u001b[0;32m    791\u001b[0m \u001b[43m        \u001b[49m\u001b[43marrays\u001b[49m\u001b[43m,\u001b[49m\n\u001b[0;32m    792\u001b[0m \u001b[43m        \u001b[49m\u001b[43mcolumns\u001b[49m\u001b[43m,\u001b[49m\n\u001b[0;32m    793\u001b[0m \u001b[43m        \u001b[49m\u001b[43mindex\u001b[49m\u001b[43m,\u001b[49m\n\u001b[0;32m    794\u001b[0m \u001b[43m        \u001b[49m\u001b[43mdtype\u001b[49m\u001b[38;5;241;43m=\u001b[39;49m\u001b[43mdtype\u001b[49m\u001b[43m,\u001b[49m\n\u001b[0;32m    795\u001b[0m \u001b[43m        \u001b[49m\u001b[43mtyp\u001b[49m\u001b[38;5;241;43m=\u001b[39;49m\u001b[43mmanager\u001b[49m\u001b[43m,\u001b[49m\n\u001b[0;32m    796\u001b[0m \u001b[43m    \u001b[49m\u001b[43m)\u001b[49m\n\u001b[0;32m    797\u001b[0m \u001b[38;5;28;01melse\u001b[39;00m:\n\u001b[0;32m    798\u001b[0m     mgr \u001b[38;5;241m=\u001b[39m ndarray_to_mgr(\n\u001b[0;32m    799\u001b[0m         data,\n\u001b[0;32m    800\u001b[0m         index,\n\u001b[1;32m   (...)\u001b[0m\n\u001b[0;32m    804\u001b[0m         typ\u001b[38;5;241m=\u001b[39mmanager,\n\u001b[0;32m    805\u001b[0m     )\n",
      "File \u001b[1;32mc:\\Users\\ranyk\\AppData\\Local\\Programs\\Python\\Python311\\Lib\\site-packages\\pandas\\core\\internals\\construction.py:153\u001b[0m, in \u001b[0;36marrays_to_mgr\u001b[1;34m(arrays, columns, index, dtype, verify_integrity, typ, consolidate)\u001b[0m\n\u001b[0;32m    150\u001b[0m axes \u001b[38;5;241m=\u001b[39m [columns, index]\n\u001b[0;32m    152\u001b[0m \u001b[38;5;28;01mif\u001b[39;00m typ \u001b[38;5;241m==\u001b[39m \u001b[38;5;124m\"\u001b[39m\u001b[38;5;124mblock\u001b[39m\u001b[38;5;124m\"\u001b[39m:\n\u001b[1;32m--> 153\u001b[0m     \u001b[38;5;28;01mreturn\u001b[39;00m \u001b[43mcreate_block_manager_from_column_arrays\u001b[49m\u001b[43m(\u001b[49m\n\u001b[0;32m    154\u001b[0m \u001b[43m        \u001b[49m\u001b[43marrays\u001b[49m\u001b[43m,\u001b[49m\u001b[43m \u001b[49m\u001b[43maxes\u001b[49m\u001b[43m,\u001b[49m\u001b[43m \u001b[49m\u001b[43mconsolidate\u001b[49m\u001b[38;5;241;43m=\u001b[39;49m\u001b[43mconsolidate\u001b[49m\u001b[43m,\u001b[49m\u001b[43m \u001b[49m\u001b[43mrefs\u001b[49m\u001b[38;5;241;43m=\u001b[39;49m\u001b[43mrefs\u001b[49m\n\u001b[0;32m    155\u001b[0m \u001b[43m    \u001b[49m\u001b[43m)\u001b[49m\n\u001b[0;32m    156\u001b[0m \u001b[38;5;28;01melif\u001b[39;00m typ \u001b[38;5;241m==\u001b[39m \u001b[38;5;124m\"\u001b[39m\u001b[38;5;124marray\u001b[39m\u001b[38;5;124m\"\u001b[39m:\n\u001b[0;32m    157\u001b[0m     \u001b[38;5;28;01mreturn\u001b[39;00m ArrayManager(arrays, [index, columns])\n",
      "File \u001b[1;32mc:\\Users\\ranyk\\AppData\\Local\\Programs\\Python\\Python311\\Lib\\site-packages\\pandas\\core\\internals\\managers.py:2137\u001b[0m, in \u001b[0;36mcreate_block_manager_from_column_arrays\u001b[1;34m(arrays, axes, consolidate, refs)\u001b[0m\n\u001b[0;32m   2119\u001b[0m \u001b[38;5;28;01mdef\u001b[39;00m \u001b[38;5;21mcreate_block_manager_from_column_arrays\u001b[39m(\n\u001b[0;32m   2120\u001b[0m     arrays: \u001b[38;5;28mlist\u001b[39m[ArrayLike],\n\u001b[0;32m   2121\u001b[0m     axes: \u001b[38;5;28mlist\u001b[39m[Index],\n\u001b[1;32m   (...)\u001b[0m\n\u001b[0;32m   2133\u001b[0m     \u001b[38;5;66;03m# These last three are sufficient to allow us to safely pass\u001b[39;00m\n\u001b[0;32m   2134\u001b[0m     \u001b[38;5;66;03m#  verify_integrity=False below.\u001b[39;00m\n\u001b[0;32m   2136\u001b[0m     \u001b[38;5;28;01mtry\u001b[39;00m:\n\u001b[1;32m-> 2137\u001b[0m         blocks \u001b[38;5;241m=\u001b[39m \u001b[43m_form_blocks\u001b[49m\u001b[43m(\u001b[49m\u001b[43marrays\u001b[49m\u001b[43m,\u001b[49m\u001b[43m \u001b[49m\u001b[43mconsolidate\u001b[49m\u001b[43m,\u001b[49m\u001b[43m \u001b[49m\u001b[43mrefs\u001b[49m\u001b[43m)\u001b[49m\n\u001b[0;32m   2138\u001b[0m         mgr \u001b[38;5;241m=\u001b[39m BlockManager(blocks, axes, verify_integrity\u001b[38;5;241m=\u001b[39m\u001b[38;5;28;01mFalse\u001b[39;00m)\n\u001b[0;32m   2139\u001b[0m     \u001b[38;5;28;01mexcept\u001b[39;00m \u001b[38;5;167;01mValueError\u001b[39;00m \u001b[38;5;28;01mas\u001b[39;00m e:\n",
      "File \u001b[1;32mc:\\Users\\ranyk\\AppData\\Local\\Programs\\Python\\Python311\\Lib\\site-packages\\pandas\\core\\internals\\managers.py:2215\u001b[0m, in \u001b[0;36m_form_blocks\u001b[1;34m(arrays, consolidate, refs)\u001b[0m\n\u001b[0;32m   2212\u001b[0m \u001b[38;5;28;01mif\u001b[39;00m \u001b[38;5;28missubclass\u001b[39m(dtype\u001b[38;5;241m.\u001b[39mtype, (\u001b[38;5;28mstr\u001b[39m, \u001b[38;5;28mbytes\u001b[39m)):\n\u001b[0;32m   2213\u001b[0m     dtype \u001b[38;5;241m=\u001b[39m np\u001b[38;5;241m.\u001b[39mdtype(\u001b[38;5;28mobject\u001b[39m)\n\u001b[1;32m-> 2215\u001b[0m values, placement \u001b[38;5;241m=\u001b[39m \u001b[43m_stack_arrays\u001b[49m\u001b[43m(\u001b[49m\u001b[38;5;28;43mlist\u001b[39;49m\u001b[43m(\u001b[49m\u001b[43mtup_block\u001b[49m\u001b[43m)\u001b[49m\u001b[43m,\u001b[49m\u001b[43m \u001b[49m\u001b[43mdtype\u001b[49m\u001b[43m)\u001b[49m\n\u001b[0;32m   2216\u001b[0m \u001b[38;5;28;01mif\u001b[39;00m is_dtlike:\n\u001b[0;32m   2217\u001b[0m     values \u001b[38;5;241m=\u001b[39m ensure_wrapped_if_datetimelike(values)\n",
      "File \u001b[1;32mc:\\Users\\ranyk\\AppData\\Local\\Programs\\Python\\Python311\\Lib\\site-packages\\pandas\\core\\internals\\managers.py:2257\u001b[0m, in \u001b[0;36m_stack_arrays\u001b[1;34m(tuples, dtype)\u001b[0m\n\u001b[0;32m   2255\u001b[0m stacked \u001b[38;5;241m=\u001b[39m np\u001b[38;5;241m.\u001b[39mempty(shape, dtype\u001b[38;5;241m=\u001b[39mdtype)\n\u001b[0;32m   2256\u001b[0m \u001b[38;5;28;01mfor\u001b[39;00m i, arr \u001b[38;5;129;01min\u001b[39;00m \u001b[38;5;28menumerate\u001b[39m(arrays):\n\u001b[1;32m-> 2257\u001b[0m     stacked[i] \u001b[38;5;241m=\u001b[39m arr\n\u001b[0;32m   2259\u001b[0m \u001b[38;5;28;01mreturn\u001b[39;00m stacked, placement\n",
      "\u001b[1;31mKeyboardInterrupt\u001b[0m: "
     ]
    }
   ],
   "source": [
    "hogs = None\n",
    "\n",
    "i = 0\n",
    "for im in data.iterrows():\n",
    "    print(f\"{i}/{len(data)}\", \"\\t\"*3, end=\"\\r\")\n",
    "    hog_features = grab_bbs(im[1])\n",
    "\n",
    "    if hogs is None:\n",
    "        num_features = len(hog_features[0][1])\n",
    "        \n",
    "        hogs = pd.DataFrame(columns=['char'] + [f\"hog_{i}\" for i in range(num_features)] + ['filename'])\n",
    "    \n",
    "    for char, hog_feat in hog_features:\n",
    "        hogs = pd.concat([hogs, pd.DataFrame([[char] + list(hog_feat) + [im[1]['filename']]], columns=hogs.columns)])\n",
    "\n",
    "    i += 1\n",
    "hogs.to_csv(\"data/.out/license_plate_hogs.csv\", index=False)"
   ]
  },
  {
   "cell_type": "code",
   "execution_count": null,
   "metadata": {},
   "outputs": [],
   "source": [
    "hogs = pd.read_csv(\"data/.out/license_plate_hogs.csv\")"
   ]
  },
  {
   "cell_type": "code",
   "execution_count": null,
   "metadata": {
    "metadata": {}
   },
   "outputs": [
    {
     "data": {
      "text/html": [
       "<div>\n",
       "<style scoped>\n",
       "    .dataframe tbody tr th:only-of-type {\n",
       "        vertical-align: middle;\n",
       "    }\n",
       "\n",
       "    .dataframe tbody tr th {\n",
       "        vertical-align: top;\n",
       "    }\n",
       "\n",
       "    .dataframe thead th {\n",
       "        text-align: right;\n",
       "    }\n",
       "</style>\n",
       "<table border=\"1\" class=\"dataframe\">\n",
       "  <thead>\n",
       "    <tr style=\"text-align: right;\">\n",
       "      <th></th>\n",
       "      <th>char0</th>\n",
       "      <th>char1</th>\n",
       "      <th>char2</th>\n",
       "      <th>char3</th>\n",
       "      <th>char4</th>\n",
       "      <th>char5</th>\n",
       "      <th>char6</th>\n",
       "      <th>char7</th>\n",
       "      <th>char8</th>\n",
       "      <th>char9</th>\n",
       "      <th>...</th>\n",
       "      <th>char18</th>\n",
       "      <th>char19</th>\n",
       "      <th>char20</th>\n",
       "      <th>char21</th>\n",
       "      <th>char22</th>\n",
       "      <th>char23</th>\n",
       "      <th>char24</th>\n",
       "      <th>char25</th>\n",
       "      <th>char26</th>\n",
       "      <th>char27</th>\n",
       "    </tr>\n",
       "  </thead>\n",
       "  <tbody>\n",
       "  </tbody>\n",
       "</table>\n",
       "<p>0 rows × 28 columns</p>\n",
       "</div>"
      ],
      "text/plain": [
       "Empty DataFrame\n",
       "Columns: [char0, char1, char2, char3, char4, char5, char6, char7, char8, char9, char10, char11, char12, char13, char14, char15, char16, char17, char18, char19, char20, char21, char22, char23, char24, char25, char26, char27]\n",
       "Index: []\n",
       "\n",
       "[0 rows x 28 columns]"
      ]
     },
     "execution_count": 6,
     "metadata": {},
     "output_type": "execute_result"
    }
   ],
   "source": [
    "# find rows with a specific character\n",
    "a = data.filter(like='char')\n",
    "a[a.isin([2.0]).any(axis=1)]"
   ]
  },
  {
   "cell_type": "code",
   "execution_count": null,
   "metadata": {
    "metadata": {}
   },
   "outputs": [
    {
     "data": {
      "text/plain": [
       "plate             KL65E1000\n",
       "filename           0112.xml\n",
       "char0                     K\n",
       "coord0       109-19-174-128\n",
       "char1                     L\n",
       "coord1       174-21-242-132\n",
       "char2                     6\n",
       "coord2       284-20-342-128\n",
       "char3                     5\n",
       "coord3       344-19-416-126\n",
       "char4                     E\n",
       "coord4       79-156-152-270\n",
       "char5                     1\n",
       "coord5      181-156-244-264\n",
       "char6                     0\n",
       "coord6      244-155-308-263\n",
       "char7                     0\n",
       "coord7      311-155-377-261\n",
       "char8                     0\n",
       "coord8      377-152-443-261\n",
       "char9                   NaN\n",
       "coord9                  NaN\n",
       "char10                  NaN\n",
       "coord10                 NaN\n",
       "char11                  NaN\n",
       "coord11                 NaN\n",
       "char12                  NaN\n",
       "coord12                 NaN\n",
       "char13                  NaN\n",
       "coord13                 NaN\n",
       "char14                  NaN\n",
       "coord14                 NaN\n",
       "char15                  NaN\n",
       "coord15                 NaN\n",
       "char16                  NaN\n",
       "coord16                 NaN\n",
       "char17                  NaN\n",
       "coord17                 NaN\n",
       "char18                  NaN\n",
       "coord18                 NaN\n",
       "char19                  NaN\n",
       "coord19                 NaN\n",
       "char20                  NaN\n",
       "coord20                 NaN\n",
       "char21                  NaN\n",
       "coord21                 NaN\n",
       "char22                  NaN\n",
       "coord22                 NaN\n",
       "char23                  NaN\n",
       "coord23                 NaN\n",
       "char24                  NaN\n",
       "coord24                 NaN\n",
       "char25                  NaN\n",
       "coord25                 NaN\n",
       "char26                  NaN\n",
       "coord26                 NaN\n",
       "char27                  NaN\n",
       "coord27                 NaN\n",
       "Name: 100, dtype: object"
      ]
     },
     "execution_count": 7,
     "metadata": {},
     "output_type": "execute_result"
    }
   ],
   "source": [
    "data.iloc[100]"
   ]
  },
  {
   "cell_type": "code",
   "execution_count": null,
   "metadata": {
    "metadata": {}
   },
   "outputs": [
    {
     "data": {
      "text/html": [
       "<div>\n",
       "<style scoped>\n",
       "    .dataframe tbody tr th:only-of-type {\n",
       "        vertical-align: middle;\n",
       "    }\n",
       "\n",
       "    .dataframe tbody tr th {\n",
       "        vertical-align: top;\n",
       "    }\n",
       "\n",
       "    .dataframe thead th {\n",
       "        text-align: right;\n",
       "    }\n",
       "</style>\n",
       "<table border=\"1\" class=\"dataframe\">\n",
       "  <thead>\n",
       "    <tr style=\"text-align: right;\">\n",
       "      <th></th>\n",
       "      <th>char</th>\n",
       "      <th>hog_0</th>\n",
       "      <th>hog_1</th>\n",
       "      <th>hog_2</th>\n",
       "      <th>hog_3</th>\n",
       "      <th>hog_4</th>\n",
       "      <th>hog_5</th>\n",
       "      <th>hog_6</th>\n",
       "      <th>hog_7</th>\n",
       "      <th>hog_8</th>\n",
       "      <th>...</th>\n",
       "      <th>hog_2295</th>\n",
       "      <th>hog_2296</th>\n",
       "      <th>hog_2297</th>\n",
       "      <th>hog_2298</th>\n",
       "      <th>hog_2299</th>\n",
       "      <th>hog_2300</th>\n",
       "      <th>hog_2301</th>\n",
       "      <th>hog_2302</th>\n",
       "      <th>hog_2303</th>\n",
       "      <th>filename</th>\n",
       "    </tr>\n",
       "  </thead>\n",
       "  <tbody>\n",
       "    <tr>\n",
       "      <th>12</th>\n",
       "      <td>2</td>\n",
       "      <td>0.493280</td>\n",
       "      <td>0.377620</td>\n",
       "      <td>0.477656</td>\n",
       "      <td>0.377620</td>\n",
       "      <td>0.493280</td>\n",
       "      <td>0.000000</td>\n",
       "      <td>0.000000</td>\n",
       "      <td>0.000000</td>\n",
       "      <td>0.000000</td>\n",
       "      <td>...</td>\n",
       "      <td>0.500000</td>\n",
       "      <td>0.000000</td>\n",
       "      <td>0.500000</td>\n",
       "      <td>0.000000</td>\n",
       "      <td>0.500000</td>\n",
       "      <td>0.000000</td>\n",
       "      <td>0.500000</td>\n",
       "      <td>0.000000</td>\n",
       "      <td>0.000000</td>\n",
       "      <td>0001.xml</td>\n",
       "    </tr>\n",
       "    <tr>\n",
       "      <th>62</th>\n",
       "      <td>2</td>\n",
       "      <td>0.373865</td>\n",
       "      <td>0.373865</td>\n",
       "      <td>0.341366</td>\n",
       "      <td>0.211706</td>\n",
       "      <td>0.373865</td>\n",
       "      <td>0.373865</td>\n",
       "      <td>0.373865</td>\n",
       "      <td>0.000000</td>\n",
       "      <td>0.373865</td>\n",
       "      <td>...</td>\n",
       "      <td>0.039696</td>\n",
       "      <td>0.000000</td>\n",
       "      <td>0.576895</td>\n",
       "      <td>0.576895</td>\n",
       "      <td>0.576895</td>\n",
       "      <td>0.000000</td>\n",
       "      <td>0.000000</td>\n",
       "      <td>0.000000</td>\n",
       "      <td>0.000000</td>\n",
       "      <td>0008.xml</td>\n",
       "    </tr>\n",
       "    <tr>\n",
       "      <th>76</th>\n",
       "      <td>2</td>\n",
       "      <td>0.284548</td>\n",
       "      <td>0.000000</td>\n",
       "      <td>0.000000</td>\n",
       "      <td>0.149970</td>\n",
       "      <td>0.584327</td>\n",
       "      <td>0.584327</td>\n",
       "      <td>0.276531</td>\n",
       "      <td>0.370399</td>\n",
       "      <td>0.000000</td>\n",
       "      <td>...</td>\n",
       "      <td>0.013467</td>\n",
       "      <td>0.000000</td>\n",
       "      <td>0.000000</td>\n",
       "      <td>0.707043</td>\n",
       "      <td>0.707043</td>\n",
       "      <td>0.000000</td>\n",
       "      <td>0.000000</td>\n",
       "      <td>0.000000</td>\n",
       "      <td>0.000000</td>\n",
       "      <td>0010.xml</td>\n",
       "    </tr>\n",
       "    <tr>\n",
       "      <th>92</th>\n",
       "      <td>2</td>\n",
       "      <td>0.454859</td>\n",
       "      <td>0.000000</td>\n",
       "      <td>0.415227</td>\n",
       "      <td>0.454859</td>\n",
       "      <td>0.000000</td>\n",
       "      <td>0.454859</td>\n",
       "      <td>0.454859</td>\n",
       "      <td>0.000000</td>\n",
       "      <td>0.000000</td>\n",
       "      <td>...</td>\n",
       "      <td>0.491319</td>\n",
       "      <td>0.491319</td>\n",
       "      <td>0.000000</td>\n",
       "      <td>0.221930</td>\n",
       "      <td>0.491319</td>\n",
       "      <td>0.000000</td>\n",
       "      <td>0.357852</td>\n",
       "      <td>0.000000</td>\n",
       "      <td>0.313857</td>\n",
       "      <td>0012.xml</td>\n",
       "    </tr>\n",
       "    <tr>\n",
       "      <th>138</th>\n",
       "      <td>2</td>\n",
       "      <td>0.480835</td>\n",
       "      <td>0.000000</td>\n",
       "      <td>0.000000</td>\n",
       "      <td>0.274211</td>\n",
       "      <td>0.480835</td>\n",
       "      <td>0.480835</td>\n",
       "      <td>0.000000</td>\n",
       "      <td>0.480835</td>\n",
       "      <td>0.000000</td>\n",
       "      <td>...</td>\n",
       "      <td>0.614588</td>\n",
       "      <td>0.000000</td>\n",
       "      <td>0.000000</td>\n",
       "      <td>0.000000</td>\n",
       "      <td>0.367295</td>\n",
       "      <td>0.164259</td>\n",
       "      <td>0.287534</td>\n",
       "      <td>0.000000</td>\n",
       "      <td>0.614588</td>\n",
       "      <td>0016.xml</td>\n",
       "    </tr>\n",
       "    <tr>\n",
       "      <th>...</th>\n",
       "      <td>...</td>\n",
       "      <td>...</td>\n",
       "      <td>...</td>\n",
       "      <td>...</td>\n",
       "      <td>...</td>\n",
       "      <td>...</td>\n",
       "      <td>...</td>\n",
       "      <td>...</td>\n",
       "      <td>...</td>\n",
       "      <td>...</td>\n",
       "      <td>...</td>\n",
       "      <td>...</td>\n",
       "      <td>...</td>\n",
       "      <td>...</td>\n",
       "      <td>...</td>\n",
       "      <td>...</td>\n",
       "      <td>...</td>\n",
       "      <td>...</td>\n",
       "      <td>...</td>\n",
       "      <td>...</td>\n",
       "      <td>...</td>\n",
       "    </tr>\n",
       "    <tr>\n",
       "      <th>1979</th>\n",
       "      <td>2</td>\n",
       "      <td>0.000000</td>\n",
       "      <td>0.000000</td>\n",
       "      <td>0.000000</td>\n",
       "      <td>0.498850</td>\n",
       "      <td>0.866688</td>\n",
       "      <td>0.000000</td>\n",
       "      <td>0.000000</td>\n",
       "      <td>0.000000</td>\n",
       "      <td>0.000000</td>\n",
       "      <td>...</td>\n",
       "      <td>0.460719</td>\n",
       "      <td>0.627590</td>\n",
       "      <td>0.000000</td>\n",
       "      <td>0.000000</td>\n",
       "      <td>0.627590</td>\n",
       "      <td>0.000000</td>\n",
       "      <td>0.000000</td>\n",
       "      <td>0.000000</td>\n",
       "      <td>0.000000</td>\n",
       "      <td>0232.xml</td>\n",
       "    </tr>\n",
       "    <tr>\n",
       "      <th>1985</th>\n",
       "      <td>2</td>\n",
       "      <td>0.000000</td>\n",
       "      <td>0.000000</td>\n",
       "      <td>0.000000</td>\n",
       "      <td>0.000000</td>\n",
       "      <td>1.000000</td>\n",
       "      <td>0.000000</td>\n",
       "      <td>0.000000</td>\n",
       "      <td>0.000000</td>\n",
       "      <td>0.000000</td>\n",
       "      <td>...</td>\n",
       "      <td>0.385852</td>\n",
       "      <td>0.000000</td>\n",
       "      <td>0.000000</td>\n",
       "      <td>0.000000</td>\n",
       "      <td>0.450449</td>\n",
       "      <td>0.450449</td>\n",
       "      <td>0.198744</td>\n",
       "      <td>0.450449</td>\n",
       "      <td>0.450449</td>\n",
       "      <td>0232.xml</td>\n",
       "    </tr>\n",
       "    <tr>\n",
       "      <th>1994</th>\n",
       "      <td>2</td>\n",
       "      <td>0.000000</td>\n",
       "      <td>0.000000</td>\n",
       "      <td>0.000000</td>\n",
       "      <td>0.000000</td>\n",
       "      <td>1.000000</td>\n",
       "      <td>0.000000</td>\n",
       "      <td>0.000000</td>\n",
       "      <td>0.000000</td>\n",
       "      <td>0.000000</td>\n",
       "      <td>...</td>\n",
       "      <td>0.000000</td>\n",
       "      <td>0.000000</td>\n",
       "      <td>0.000000</td>\n",
       "      <td>0.000000</td>\n",
       "      <td>1.000000</td>\n",
       "      <td>0.000000</td>\n",
       "      <td>0.000000</td>\n",
       "      <td>0.000000</td>\n",
       "      <td>0.000000</td>\n",
       "      <td>0233.xml</td>\n",
       "    </tr>\n",
       "    <tr>\n",
       "      <th>1999</th>\n",
       "      <td>2</td>\n",
       "      <td>0.626292</td>\n",
       "      <td>0.000000</td>\n",
       "      <td>0.464238</td>\n",
       "      <td>0.000000</td>\n",
       "      <td>0.626292</td>\n",
       "      <td>0.000000</td>\n",
       "      <td>0.000000</td>\n",
       "      <td>0.000000</td>\n",
       "      <td>0.000000</td>\n",
       "      <td>...</td>\n",
       "      <td>0.509073</td>\n",
       "      <td>0.509073</td>\n",
       "      <td>0.471735</td>\n",
       "      <td>0.000000</td>\n",
       "      <td>0.509073</td>\n",
       "      <td>0.000000</td>\n",
       "      <td>0.000000</td>\n",
       "      <td>0.000000</td>\n",
       "      <td>0.000000</td>\n",
       "      <td>0234.xml</td>\n",
       "    </tr>\n",
       "    <tr>\n",
       "      <th>2008</th>\n",
       "      <td>2</td>\n",
       "      <td>0.000000</td>\n",
       "      <td>0.000000</td>\n",
       "      <td>0.000000</td>\n",
       "      <td>0.000000</td>\n",
       "      <td>0.000000</td>\n",
       "      <td>0.000000</td>\n",
       "      <td>0.000000</td>\n",
       "      <td>0.000000</td>\n",
       "      <td>0.000000</td>\n",
       "      <td>...</td>\n",
       "      <td>0.000000</td>\n",
       "      <td>0.000000</td>\n",
       "      <td>0.000000</td>\n",
       "      <td>0.000000</td>\n",
       "      <td>1.000000</td>\n",
       "      <td>0.000000</td>\n",
       "      <td>0.000000</td>\n",
       "      <td>0.000000</td>\n",
       "      <td>0.000000</td>\n",
       "      <td>0235.xml</td>\n",
       "    </tr>\n",
       "  </tbody>\n",
       "</table>\n",
       "<p>128 rows × 2306 columns</p>\n",
       "</div>"
      ],
      "text/plain": [
       "     char     hog_0     hog_1     hog_2     hog_3     hog_4     hog_5  \\\n",
       "12      2  0.493280  0.377620  0.477656  0.377620  0.493280  0.000000   \n",
       "62      2  0.373865  0.373865  0.341366  0.211706  0.373865  0.373865   \n",
       "76      2  0.284548  0.000000  0.000000  0.149970  0.584327  0.584327   \n",
       "92      2  0.454859  0.000000  0.415227  0.454859  0.000000  0.454859   \n",
       "138     2  0.480835  0.000000  0.000000  0.274211  0.480835  0.480835   \n",
       "...   ...       ...       ...       ...       ...       ...       ...   \n",
       "1979    2  0.000000  0.000000  0.000000  0.498850  0.866688  0.000000   \n",
       "1985    2  0.000000  0.000000  0.000000  0.000000  1.000000  0.000000   \n",
       "1994    2  0.000000  0.000000  0.000000  0.000000  1.000000  0.000000   \n",
       "1999    2  0.626292  0.000000  0.464238  0.000000  0.626292  0.000000   \n",
       "2008    2  0.000000  0.000000  0.000000  0.000000  0.000000  0.000000   \n",
       "\n",
       "         hog_6     hog_7     hog_8  ...  hog_2295  hog_2296  hog_2297  \\\n",
       "12    0.000000  0.000000  0.000000  ...  0.500000  0.000000  0.500000   \n",
       "62    0.373865  0.000000  0.373865  ...  0.039696  0.000000  0.576895   \n",
       "76    0.276531  0.370399  0.000000  ...  0.013467  0.000000  0.000000   \n",
       "92    0.454859  0.000000  0.000000  ...  0.491319  0.491319  0.000000   \n",
       "138   0.000000  0.480835  0.000000  ...  0.614588  0.000000  0.000000   \n",
       "...        ...       ...       ...  ...       ...       ...       ...   \n",
       "1979  0.000000  0.000000  0.000000  ...  0.460719  0.627590  0.000000   \n",
       "1985  0.000000  0.000000  0.000000  ...  0.385852  0.000000  0.000000   \n",
       "1994  0.000000  0.000000  0.000000  ...  0.000000  0.000000  0.000000   \n",
       "1999  0.000000  0.000000  0.000000  ...  0.509073  0.509073  0.471735   \n",
       "2008  0.000000  0.000000  0.000000  ...  0.000000  0.000000  0.000000   \n",
       "\n",
       "      hog_2298  hog_2299  hog_2300  hog_2301  hog_2302  hog_2303  filename  \n",
       "12    0.000000  0.500000  0.000000  0.500000  0.000000  0.000000  0001.xml  \n",
       "62    0.576895  0.576895  0.000000  0.000000  0.000000  0.000000  0008.xml  \n",
       "76    0.707043  0.707043  0.000000  0.000000  0.000000  0.000000  0010.xml  \n",
       "92    0.221930  0.491319  0.000000  0.357852  0.000000  0.313857  0012.xml  \n",
       "138   0.000000  0.367295  0.164259  0.287534  0.000000  0.614588  0016.xml  \n",
       "...        ...       ...       ...       ...       ...       ...       ...  \n",
       "1979  0.000000  0.627590  0.000000  0.000000  0.000000  0.000000  0232.xml  \n",
       "1985  0.000000  0.450449  0.450449  0.198744  0.450449  0.450449  0232.xml  \n",
       "1994  0.000000  1.000000  0.000000  0.000000  0.000000  0.000000  0233.xml  \n",
       "1999  0.000000  0.509073  0.000000  0.000000  0.000000  0.000000  0234.xml  \n",
       "2008  0.000000  1.000000  0.000000  0.000000  0.000000  0.000000  0235.xml  \n",
       "\n",
       "[128 rows x 2306 columns]"
      ]
     },
     "execution_count": 8,
     "metadata": {},
     "output_type": "execute_result"
    }
   ],
   "source": [
    "hogs[hogs['char'] == \"2\"]"
   ]
  },
  {
   "cell_type": "code",
   "execution_count": null,
   "metadata": {
    "metadata": {}
   },
   "outputs": [
    {
     "data": {
      "image/png": "[encoded data removed]",
      "text/plain": [
       "<Figure size 640x480 with 1 Axes>"
      ]
     },
     "metadata": {},
     "output_type": "display_data"
    }
   ],
   "source": [
    "# Plot Label Distribution\n",
    "import matplotlib.pyplot as plt\n",
    "\n",
    "lbl_distr = hogs['char'].value_counts()\n",
    "\n",
    "plt.bar([str(x) for x in lbl_distr.index.to_list()], lbl_distr.values)\n",
    "\n",
    "plt.show()"
   ]
  },
  {
   "cell_type": "code",
   "execution_count": null,
   "metadata": {
    "metadata": {}
   },
   "outputs": [
    {
     "data": {
      "image/png": "[encoded data removed]",
      "text/plain": [
       "<Figure size 640x480 with 1 Axes>"
      ]
     },
     "metadata": {},
     "output_type": "display_data"
    }
   ],
   "source": [
    "# upsample minority classes\n",
    "from sklearn.utils import resample\n",
    "\n",
    "num_majority = hogs[hogs['char'] == max(hogs['char'], key=hogs['char'].value_counts().get)]\n",
    "\n",
    "\n",
    "hogs_upsampled = hogs.copy()\n",
    "for char in hogs['char'].unique():\n",
    "    if len(hogs[hogs['char'] == char]) < len(num_majority):\n",
    "        hogs_upsampled = pd.concat([hogs_upsampled, resample(hogs[hogs['char'] == char], replace=True, n_samples=len(num_majority) - len(hogs[hogs['char'] == char]))])\n",
    "\n",
    "lbl_distr = hogs_upsampled['char'].value_counts()\n",
    "\n",
    "plt.bar([str(x) for x in lbl_distr.index.to_list()], lbl_distr.values)\n",
    "\n",
    "plt.show()"
   ]
  },
  {
   "cell_type": "markdown",
   "metadata": {},
   "source": [
    "## Training time"
   ]
  },
  {
   "cell_type": "code",
   "execution_count": null,
   "metadata": {
    "metadata": {}
   },
   "outputs": [],
   "source": [
    "from sklearn.linear_model import LogisticRegression\n",
    "from sklearn.model_selection import train_test_split\n",
    "\n",
    "X = hogs_upsampled.drop(columns=['char', 'filename'])\n",
    "y = hogs_upsampled['char']\n",
    "\n",
    "X_train, X_test, y_train, y_test = train_test_split(X, y,\n",
    "                                                    test_size=0.20,\n",
    "                                                    random_state=42)"
   ]
  },
  {
   "cell_type": "code",
   "execution_count": null,
   "metadata": {
    "metadata": {}
   },
   "outputs": [
    {
     "name": "stdout",
     "output_type": "stream",
     "text": [
      "Accuracy 0.99\n",
      "              precision    recall  f1-score   support\n",
      "\n",
      "           0       0.97      0.97      0.97        37\n",
      "           1       1.00      0.93      0.96        42\n",
      "           2       1.00      1.00      1.00        40\n",
      "           3       1.00      0.98      0.99        45\n",
      "           4       1.00      0.93      0.97        46\n",
      "           5       0.95      0.97      0.96        40\n",
      "           6       1.00      0.94      0.97        34\n",
      "           7       0.97      1.00      0.99        38\n",
      "           8       0.97      0.94      0.96        35\n",
      "           9       0.97      1.00      0.99        34\n",
      "           A       0.98      1.00      0.99        42\n",
      "           B       1.00      0.97      0.98        31\n",
      "           C       0.98      1.00      0.99        42\n",
      "           D       0.95      1.00      0.97        38\n",
      "           E       1.00      1.00      1.00        32\n",
      "           F       1.00      1.00      1.00        43\n",
      "           G       0.97      1.00      0.99        39\n",
      "           H       1.00      1.00      1.00        31\n",
      "           I       1.00      1.00      1.00        39\n",
      "           J       1.00      1.00      1.00        42\n",
      "           K       1.00      1.00      1.00        40\n",
      "           L       1.00      1.00      1.00        30\n",
      "           M       1.00      1.00      1.00        34\n",
      "           N       1.00      1.00      1.00        47\n",
      "           O       1.00      1.00      1.00        37\n",
      "           P       1.00      1.00      1.00        36\n",
      "           Q       1.00      1.00      1.00        36\n",
      "           R       1.00      1.00      1.00        32\n",
      "           S       1.00      1.00      1.00        30\n",
      "           T       0.96      1.00      0.98        44\n",
      "           U       1.00      1.00      1.00        36\n",
      "           V       1.00      1.00      1.00        39\n",
      "           W       0.97      1.00      0.99        35\n",
      "           X       1.00      1.00      1.00        34\n",
      "           Y       1.00      1.00      1.00        38\n",
      "           Z       1.00      1.00      1.00        36\n",
      "\n",
      "    accuracy                           0.99      1354\n",
      "   macro avg       0.99      0.99      0.99      1354\n",
      "weighted avg       0.99      0.99      0.99      1354\n",
      "\n"
     ]
    },
    {
     "name": "stderr",
     "output_type": "stream",
     "text": [
      "c:\\Users\\ranyk\\AppData\\Local\\Programs\\Python\\Python311\\Lib\\site-packages\\sklearn\\linear_model\\_logistic.py:458: ConvergenceWarning: lbfgs failed to converge (status=1):\n",
      "STOP: TOTAL NO. of ITERATIONS REACHED LIMIT.\n",
      "\n",
      "Increase the number of iterations (max_iter) or scale the data as shown in:\n",
      "    https://scikit-learn.org/stable/modules/preprocessing.html\n",
      "Please also refer to the documentation for alternative solver options:\n",
      "    https://scikit-learn.org/stable/modules/linear_model.html#logistic-regression\n",
      "  n_iter_i = _check_optimize_result(\n"
     ]
    }
   ],
   "source": [
    "lreg = LogisticRegression()\n",
    "clf = lreg.fit(X_train, y_train)\n",
    "y_pred = clf.predict(X_test)\n",
    "print('Accuracy {:.2f}'.format(clf.score(X_test, y_test)))\n",
    "\n",
    "from sklearn.metrics import classification_report\n",
    "print(classification_report(y_test, y_pred))"
   ]
  },
  {
   "cell_type": "code",
   "execution_count": null,
   "metadata": {},
   "outputs": [
    {
     "data": {
      "text/plain": [
       "['model/lreg_char_class.pkl']"
      ]
     },
     "execution_count": 13,
     "metadata": {},
     "output_type": "execute_result"
    }
   ],
   "source": [
    "import joblib\n",
    "joblib.dump(clf, \"model/lreg_char_class.pkl\")"
   ]
  },
  {
   "cell_type": "markdown",
   "metadata": {},
   "source": [
    "## Misc"
   ]
  },
  {
   "cell_type": "code",
   "execution_count": null,
   "metadata": {
    "metadata": {}
   },
   "outputs": [
    {
     "data": {
      "text/plain": [
       "<matplotlib.image.AxesImage at 0x2bda9bbab90>"
      ]
     },
     "execution_count": 338,
     "metadata": {},
     "output_type": "execute_result"
    },
    {
     "data": {
      "image/png": "[encoded data removed]",
      "text/plain": [
       "<Figure size 640x480 with 1 Axes>"
      ]
     },
     "metadata": {},
     "output_type": "display_data"
    }
   ],
   "source": [
    "import matplotlib.pyplot as plt\n",
    "import cv2\n",
    "from skimage.feature import hog\n",
    "\n",
    "\n",
    "im_test = cv2.imread('ocr_data/train/A/roi107644.jpg',0)\n",
    "_,hog_img= hog(im_test,orientations=9,pixels_per_cell=(8,8), cells_per_block=(1, 1),visualize=True)\n",
    "plt.imshow(hog_img,cmap='gray')"
   ]
  }
 ],
 "metadata": {
  "kernelspec": {
   "display_name": "Python 3",
   "language": "python",
   "name": "python3"
  },
  "language_info": {
   "codemirror_mode": {
    "name": "ipython",
    "version": 3
   },
   "file_extension": ".py",
   "mimetype": "text/x-python",
   "name": "python",
   "nbconvert_exporter": "python",
   "pygments_lexer": "ipython3",
   "version": "3.11.4"
  }
 },
 "nbformat": 4,
 "nbformat_minor": 2
}
