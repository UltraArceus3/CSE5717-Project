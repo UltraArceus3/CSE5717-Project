{
 "cells": [
  {
   "cell_type": "code",
   "execution_count": 1,
   "metadata": {},
   "outputs": [],
   "source": [
    "import pandas as pd\n",
    "\n",
    "data_path = \"../DataPreProcessing/.out/license_plates.csv\"\n",
    "image_path = \"../OCR/data/LP-characters/images\"\n",
    "\n",
    "data = pd.read_csv(data_path, dtype=str)"
   ]
  },
  {
   "cell_type": "code",
   "execution_count": 2,
   "metadata": {},
   "outputs": [],
   "source": [
    "data_dir = \"data/.out/yolo_data\"\n",
    "train_dir = f\"{data_dir}/images/train\"\n",
    "test_dir = f\"{data_dir}/images/test\"\n",
    "lbl_train_dir = f\"{data_dir}/labels/train\"\n",
    "lbl_test_dir = f\"{data_dir}/labels/test\""
   ]
  },
  {
   "cell_type": "code",
   "execution_count": 10,
   "metadata": {},
   "outputs": [],
   "source": [
    "import PIL as pil\n",
    "from PIL import Image\n",
    "from skimage.feature import hog\n",
    "import matplotlib.pyplot as plt\n",
    "import cv2\n",
    "\n",
    "def prepare_img(img, xmin: float, ymin: float, xmax: float, ymax: float):\n",
    "        # crop image to bounding box\n",
    "        char_img = img[int(ymin):int(ymax), int(xmin):int(xmax)]\n",
    "\n",
    "        # scale image\n",
    "        char_img = cv2.resize(char_img, (64, 64))\n",
    "        #plt.figure()\n",
    "        hog_img = hog(char_img, orientations=9, pixels_per_cell=(4,4), cells_per_block=(1, 1))\n",
    "\n",
    "        return hog_img"
   ]
  },
  {
   "cell_type": "code",
   "execution_count": 4,
   "metadata": {},
   "outputs": [],
   "source": [
    "from ultralytics import YOLO\n",
    "import joblib\n",
    "import torch\n",
    "\n",
    "model1 = YOLO(\"yolov8n.pt\")\n",
    "model1.model = torch.load(\"model/yolo_char_rec.pt\")\n",
    "model2 = joblib.load(\"model/lreg_char_class.pkl\")"
   ]
  },
  {
   "cell_type": "code",
   "execution_count": 13,
   "metadata": {},
   "outputs": [],
   "source": [
    "class OCRModel:\n",
    "    def predict(self, image_path):\n",
    "        results = model1(image_path)\n",
    "        pred = []\n",
    "        \n",
    "        img = cv2.imread(image_path, cv2.IMREAD_GRAYSCALE)\n",
    "        for result in results[0].boxes.xyxy:\n",
    "            xmin, ymin, xmax, ymax = result[0:4]\n",
    "            char_img = prepare_img(img, xmin, ymin, xmax, ymax)\n",
    "            pred.append(model2.predict([char_img]))\n",
    "        return pred"
   ]
  },
  {
   "cell_type": "code",
   "execution_count": 36,
   "metadata": {},
   "outputs": [],
   "source": [
    "import warnings\n",
    "warnings.filterwarnings(\"ignore\")"
   ]
  },
  {
   "cell_type": "code",
   "execution_count": 40,
   "metadata": {},
   "outputs": [
    {
     "name": "stdout",
     "output_type": "stream",
     "text": [
      "\n",
      "image 1/1 b:\\projects\\uconn\\CSE5717\\group_proj\\CSE5717-Project\\OCR\\..\\OCR\\data\\LP-characters\\images\\0000.png: 256x640 9 letters, 40.6ms\n",
      "Speed: 2.9ms preprocess, 40.6ms inference, 6.0ms postprocess per image at shape (1, 3, 256, 640)\n",
      "\n",
      "image 1/1 b:\\projects\\uconn\\CSE5717\\group_proj\\CSE5717-Project\\OCR\\..\\OCR\\data\\LP-characters\\images\\0000.png: 256x640 9 letters, 39.0ms\n",
      "Speed: 3.0ms preprocess, 39.0ms inference, 8.0ms postprocess per image at shape (1, 3, 256, 640)\n",
      "[array(['M'], dtype=object), array(['H'], dtype=object), array(['5'], dtype=object), array(['C'], dtype=object), array(['5'], dtype=object), array(['T'], dtype=object), array(['5'], dtype=object), array(['4'], dtype=object), array(['M'], dtype=object)]\n",
      "Predicted licence plate: MH5C5T54M 9\n",
      "Ground truth licence plate: MH15TC554 9\n",
      "# of bounding boxes:  9\n"
     ]
    },
    {
     "data": {
      "image/png": "[encoded data removed]",
      "text/plain": [
       "<Figure size 640x480 with 1 Axes>"
      ]
     },
     "metadata": {},
     "output_type": "display_data"
    }
   ],
   "source": [
    "model = OCRModel()\n",
    "\n",
    "file = \"0000\"\n",
    "\n",
    "results = model.predict(f\"{image_path}/{file}.png\")\n",
    "ground_truth = list(data[data['filename'] == file+\".xml\"]['plate'])[0]\n",
    "\n",
    "bbs = model1(f\"{image_path}/{file}.png\")[0].boxes.xyxy\n",
    "\n",
    "print(results)\n",
    "print(f\"Predicted licence plate: {''.join([x[0] for x in results])}\", len(results))\n",
    "print(f\"Ground truth licence plate: {''.join(ground_truth)}\", len(ground_truth))\n",
    "\n",
    "img = cv2.imread(f\"{image_path}/{file}.png\")\n",
    "\n",
    "print(\"# of bounding boxes: \", len(bbs))\n",
    "for bb in bbs:\n",
    "    xmin, ymin, xmax, ymax = bb[0:4]\n",
    "    cv2.rectangle(img, (int(xmin), int(ymin)), (int(xmax), int(ymax)), (0, 255, 0), 2)\n",
    "plt.figure()\n",
    "plt.imshow(img)\n",
    "plt.show()"
   ]
  },
  {
   "cell_type": "code",
   "execution_count": null,
   "metadata": {},
   "outputs": [],
   "source": []
  }
 ],
 "metadata": {
  "kernelspec": {
   "display_name": "Python 3",
   "language": "python",
   "name": "python3"
  },
  "language_info": {
   "codemirror_mode": {
    "name": "ipython",
    "version": 3
   },
   "file_extension": ".py",
   "mimetype": "text/x-python",
   "name": "python",
   "nbconvert_exporter": "python",
   "pygments_lexer": "ipython3",
   "version": "3.11.4"
  }
 },
 "nbformat": 4,
 "nbformat_minor": 2
}
