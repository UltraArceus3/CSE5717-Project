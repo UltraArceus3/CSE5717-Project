{
 "cells": [
  {
   "cell_type": "code",
   "execution_count": 1,
   "metadata": {},
   "outputs": [],
   "source": [
    "import cv2 \n",
    "import numpy as np \n",
    "import pandas as pd\n",
    "import easyocr "
   ]
  },
  {
   "cell_type": "code",
   "execution_count": 2,
   "metadata": {},
   "outputs": [],
   "source": [
    "reader = easyocr.Reader(['en'], gpu=True) # the reader that will evaluate through the license plate text. "
   ]
  },
  {
   "cell_type": "code",
   "execution_count": 3,
   "metadata": {},
   "outputs": [],
   "source": [
    "detections = reader.readtext(\"/home/jik19004/FilesToRun/DINGRESEARCH/5717Proj/LP-Dataset/LP-characters/images/0000.png\")"
   ]
  },
  {
   "cell_type": "code",
   "execution_count": 4,
   "metadata": {},
   "outputs": [
    {
     "data": {
      "text/html": [
       "<div>\n",
       "<style scoped>\n",
       "    .dataframe tbody tr th:only-of-type {\n",
       "        vertical-align: middle;\n",
       "    }\n",
       "\n",
       "    .dataframe tbody tr th {\n",
       "        vertical-align: top;\n",
       "    }\n",
       "\n",
       "    .dataframe thead th {\n",
       "        text-align: right;\n",
       "    }\n",
       "</style>\n",
       "<table border=\"1\" class=\"dataframe\">\n",
       "  <thead>\n",
       "    <tr style=\"text-align: right;\">\n",
       "      <th></th>\n",
       "      <th>0</th>\n",
       "      <th>1</th>\n",
       "      <th>2</th>\n",
       "      <th>3</th>\n",
       "      <th>4</th>\n",
       "      <th>5</th>\n",
       "      <th>6</th>\n",
       "      <th>7</th>\n",
       "      <th>8</th>\n",
       "      <th>9</th>\n",
       "      <th>...</th>\n",
       "      <th>24</th>\n",
       "      <th>25</th>\n",
       "      <th>26</th>\n",
       "      <th>27</th>\n",
       "      <th>28</th>\n",
       "      <th>29</th>\n",
       "      <th>30</th>\n",
       "      <th>31</th>\n",
       "      <th>32</th>\n",
       "      <th>33</th>\n",
       "    </tr>\n",
       "  </thead>\n",
       "  <tbody>\n",
       "    <tr>\n",
       "      <th>0</th>\n",
       "      <td>MH15TC554</td>\n",
       "      <td>0000.xml</td>\n",
       "      <td>M</td>\n",
       "      <td>13-17-27-32</td>\n",
       "      <td>H</td>\n",
       "      <td>25-16-38-33</td>\n",
       "      <td>1</td>\n",
       "      <td>36-16-46-34</td>\n",
       "      <td>5</td>\n",
       "      <td>45-16-55-33</td>\n",
       "      <td>...</td>\n",
       "      <td>NaN</td>\n",
       "      <td>NaN</td>\n",
       "      <td>NaN</td>\n",
       "      <td>NaN</td>\n",
       "      <td>NaN</td>\n",
       "      <td>NaN</td>\n",
       "      <td>NaN</td>\n",
       "      <td>NaN</td>\n",
       "      <td>NaN</td>\n",
       "      <td>NaN</td>\n",
       "    </tr>\n",
       "    <tr>\n",
       "      <th>1</th>\n",
       "      <td>MH02CB4545</td>\n",
       "      <td>0001.xml</td>\n",
       "      <td>M</td>\n",
       "      <td>15-23-32-41</td>\n",
       "      <td>H</td>\n",
       "      <td>33-26-46-44</td>\n",
       "      <td>0</td>\n",
       "      <td>51-29-64-47</td>\n",
       "      <td>2</td>\n",
       "      <td>63-32-77-50</td>\n",
       "      <td>...</td>\n",
       "      <td>NaN</td>\n",
       "      <td>NaN</td>\n",
       "      <td>NaN</td>\n",
       "      <td>NaN</td>\n",
       "      <td>NaN</td>\n",
       "      <td>NaN</td>\n",
       "      <td>NaN</td>\n",
       "      <td>NaN</td>\n",
       "      <td>NaN</td>\n",
       "      <td>NaN</td>\n",
       "    </tr>\n",
       "    <tr>\n",
       "      <th>2</th>\n",
       "      <td>KA031351</td>\n",
       "      <td>0003.xml</td>\n",
       "      <td>K</td>\n",
       "      <td>19-11-30-29</td>\n",
       "      <td>A</td>\n",
       "      <td>31-13-40-29</td>\n",
       "      <td>0</td>\n",
       "      <td>40-13-52-30</td>\n",
       "      <td>3</td>\n",
       "      <td>51-15-62-30</td>\n",
       "      <td>...</td>\n",
       "      <td>NaN</td>\n",
       "      <td>NaN</td>\n",
       "      <td>NaN</td>\n",
       "      <td>NaN</td>\n",
       "      <td>NaN</td>\n",
       "      <td>NaN</td>\n",
       "      <td>NaN</td>\n",
       "      <td>NaN</td>\n",
       "      <td>NaN</td>\n",
       "      <td>NaN</td>\n",
       "    </tr>\n",
       "    <tr>\n",
       "      <th>3</th>\n",
       "      <td>TN0600000</td>\n",
       "      <td>0004.xml</td>\n",
       "      <td>T</td>\n",
       "      <td>156-27-228-156</td>\n",
       "      <td>N</td>\n",
       "      <td>248-31-322-159</td>\n",
       "      <td>0</td>\n",
       "      <td>362-32-435-159</td>\n",
       "      <td>6</td>\n",
       "      <td>456-38-526-161</td>\n",
       "      <td>...</td>\n",
       "      <td>NaN</td>\n",
       "      <td>NaN</td>\n",
       "      <td>NaN</td>\n",
       "      <td>NaN</td>\n",
       "      <td>NaN</td>\n",
       "      <td>NaN</td>\n",
       "      <td>NaN</td>\n",
       "      <td>NaN</td>\n",
       "      <td>NaN</td>\n",
       "      <td>NaN</td>\n",
       "    </tr>\n",
       "    <tr>\n",
       "      <th>4</th>\n",
       "      <td>KA51MJ8156</td>\n",
       "      <td>0005.xml</td>\n",
       "      <td>K</td>\n",
       "      <td>22-13-33-34</td>\n",
       "      <td>A</td>\n",
       "      <td>34-13-45-34</td>\n",
       "      <td>5</td>\n",
       "      <td>45-12-58-34</td>\n",
       "      <td>1</td>\n",
       "      <td>59-14-69-34</td>\n",
       "      <td>...</td>\n",
       "      <td>NaN</td>\n",
       "      <td>NaN</td>\n",
       "      <td>NaN</td>\n",
       "      <td>NaN</td>\n",
       "      <td>NaN</td>\n",
       "      <td>NaN</td>\n",
       "      <td>NaN</td>\n",
       "      <td>NaN</td>\n",
       "      <td>NaN</td>\n",
       "      <td>NaN</td>\n",
       "    </tr>\n",
       "    <tr>\n",
       "      <th>...</th>\n",
       "      <td>...</td>\n",
       "      <td>...</td>\n",
       "      <td>...</td>\n",
       "      <td>...</td>\n",
       "      <td>...</td>\n",
       "      <td>...</td>\n",
       "      <td>...</td>\n",
       "      <td>...</td>\n",
       "      <td>...</td>\n",
       "      <td>...</td>\n",
       "      <td>...</td>\n",
       "      <td>...</td>\n",
       "      <td>...</td>\n",
       "      <td>...</td>\n",
       "      <td>...</td>\n",
       "      <td>...</td>\n",
       "      <td>...</td>\n",
       "      <td>...</td>\n",
       "      <td>...</td>\n",
       "      <td>...</td>\n",
       "      <td>...</td>\n",
       "    </tr>\n",
       "    <tr>\n",
       "      <th>203</th>\n",
       "      <td>MH2OBN3525</td>\n",
       "      <td>0232.xml</td>\n",
       "      <td>M</td>\n",
       "      <td>25-25-40-45</td>\n",
       "      <td>H</td>\n",
       "      <td>42-25-56-45</td>\n",
       "      <td>2</td>\n",
       "      <td>59-25-71-45</td>\n",
       "      <td>O</td>\n",
       "      <td>71-25-88-45</td>\n",
       "      <td>...</td>\n",
       "      <td>NaN</td>\n",
       "      <td>NaN</td>\n",
       "      <td>NaN</td>\n",
       "      <td>NaN</td>\n",
       "      <td>NaN</td>\n",
       "      <td>NaN</td>\n",
       "      <td>NaN</td>\n",
       "      <td>NaN</td>\n",
       "      <td>NaN</td>\n",
       "      <td>NaN</td>\n",
       "    </tr>\n",
       "    <tr>\n",
       "      <th>204</th>\n",
       "      <td>MH01AR5274</td>\n",
       "      <td>0233.xml</td>\n",
       "      <td>M</td>\n",
       "      <td>21-19-31-29</td>\n",
       "      <td>H</td>\n",
       "      <td>30-19-39-28</td>\n",
       "      <td>0</td>\n",
       "      <td>43-20-51-28</td>\n",
       "      <td>1</td>\n",
       "      <td>50-19-57-28</td>\n",
       "      <td>...</td>\n",
       "      <td>NaN</td>\n",
       "      <td>NaN</td>\n",
       "      <td>NaN</td>\n",
       "      <td>NaN</td>\n",
       "      <td>NaN</td>\n",
       "      <td>NaN</td>\n",
       "      <td>NaN</td>\n",
       "      <td>NaN</td>\n",
       "      <td>NaN</td>\n",
       "      <td>NaN</td>\n",
       "    </tr>\n",
       "    <tr>\n",
       "      <th>205</th>\n",
       "      <td>MH20CS1941</td>\n",
       "      <td>0234.xml</td>\n",
       "      <td>M</td>\n",
       "      <td>18-18-31-35</td>\n",
       "      <td>H</td>\n",
       "      <td>32-18-42-35</td>\n",
       "      <td>2</td>\n",
       "      <td>43-19-54-34</td>\n",
       "      <td>0</td>\n",
       "      <td>54-18-64-34</td>\n",
       "      <td>...</td>\n",
       "      <td>NaN</td>\n",
       "      <td>NaN</td>\n",
       "      <td>NaN</td>\n",
       "      <td>NaN</td>\n",
       "      <td>NaN</td>\n",
       "      <td>NaN</td>\n",
       "      <td>NaN</td>\n",
       "      <td>NaN</td>\n",
       "      <td>NaN</td>\n",
       "      <td>NaN</td>\n",
       "    </tr>\n",
       "    <tr>\n",
       "      <th>206</th>\n",
       "      <td>H20CS1938</td>\n",
       "      <td>0235.xml</td>\n",
       "      <td>H</td>\n",
       "      <td>21-15-27-26</td>\n",
       "      <td>2</td>\n",
       "      <td>27-16-32-26</td>\n",
       "      <td>0</td>\n",
       "      <td>32-17-37-27</td>\n",
       "      <td>C</td>\n",
       "      <td>37-16-43-28</td>\n",
       "      <td>...</td>\n",
       "      <td>NaN</td>\n",
       "      <td>NaN</td>\n",
       "      <td>NaN</td>\n",
       "      <td>NaN</td>\n",
       "      <td>NaN</td>\n",
       "      <td>NaN</td>\n",
       "      <td>NaN</td>\n",
       "      <td>NaN</td>\n",
       "      <td>NaN</td>\n",
       "      <td>NaN</td>\n",
       "    </tr>\n",
       "    <tr>\n",
       "      <th>207</th>\n",
       "      <td>MH14DT8831</td>\n",
       "      <td>0236.xml</td>\n",
       "      <td>M</td>\n",
       "      <td>27-30-54-74</td>\n",
       "      <td>H</td>\n",
       "      <td>57-30-83-74</td>\n",
       "      <td>1</td>\n",
       "      <td>93-27-113-74</td>\n",
       "      <td>4</td>\n",
       "      <td>119-28-142-73</td>\n",
       "      <td>...</td>\n",
       "      <td>NaN</td>\n",
       "      <td>NaN</td>\n",
       "      <td>NaN</td>\n",
       "      <td>NaN</td>\n",
       "      <td>NaN</td>\n",
       "      <td>NaN</td>\n",
       "      <td>NaN</td>\n",
       "      <td>NaN</td>\n",
       "      <td>NaN</td>\n",
       "      <td>NaN</td>\n",
       "    </tr>\n",
       "  </tbody>\n",
       "</table>\n",
       "<p>208 rows × 34 columns</p>\n",
       "</div>"
      ],
      "text/plain": [
       "              0         1  2               3  4               5  6  \\\n",
       "0     MH15TC554  0000.xml  M     13-17-27-32  H     25-16-38-33  1   \n",
       "1    MH02CB4545  0001.xml  M     15-23-32-41  H     33-26-46-44  0   \n",
       "2      KA031351  0003.xml  K     19-11-30-29  A     31-13-40-29  0   \n",
       "3     TN0600000  0004.xml  T  156-27-228-156  N  248-31-322-159  0   \n",
       "4    KA51MJ8156  0005.xml  K     22-13-33-34  A     34-13-45-34  5   \n",
       "..          ...       ... ..             ... ..             ... ..   \n",
       "203  MH2OBN3525  0232.xml  M     25-25-40-45  H     42-25-56-45  2   \n",
       "204  MH01AR5274  0233.xml  M     21-19-31-29  H     30-19-39-28  0   \n",
       "205  MH20CS1941  0234.xml  M     18-18-31-35  H     32-18-42-35  2   \n",
       "206   H20CS1938  0235.xml  H     21-15-27-26  2     27-16-32-26  0   \n",
       "207  MH14DT8831  0236.xml  M     27-30-54-74  H     57-30-83-74  1   \n",
       "\n",
       "                  7  8               9  ...  24   25  26   27  28   29  30  \\\n",
       "0       36-16-46-34  5     45-16-55-33  ... NaN  NaN NaN  NaN NaN  NaN NaN   \n",
       "1       51-29-64-47  2     63-32-77-50  ... NaN  NaN NaN  NaN NaN  NaN NaN   \n",
       "2       40-13-52-30  3     51-15-62-30  ... NaN  NaN NaN  NaN NaN  NaN NaN   \n",
       "3    362-32-435-159  6  456-38-526-161  ... NaN  NaN NaN  NaN NaN  NaN NaN   \n",
       "4       45-12-58-34  1     59-14-69-34  ... NaN  NaN NaN  NaN NaN  NaN NaN   \n",
       "..              ... ..             ...  ...  ..  ...  ..  ...  ..  ...  ..   \n",
       "203     59-25-71-45  O     71-25-88-45  ... NaN  NaN NaN  NaN NaN  NaN NaN   \n",
       "204     43-20-51-28  1     50-19-57-28  ... NaN  NaN NaN  NaN NaN  NaN NaN   \n",
       "205     43-19-54-34  0     54-18-64-34  ... NaN  NaN NaN  NaN NaN  NaN NaN   \n",
       "206     32-17-37-27  C     37-16-43-28  ... NaN  NaN NaN  NaN NaN  NaN NaN   \n",
       "207    93-27-113-74  4   119-28-142-73  ... NaN  NaN NaN  NaN NaN  NaN NaN   \n",
       "\n",
       "      31  32   33  \n",
       "0    NaN NaN  NaN  \n",
       "1    NaN NaN  NaN  \n",
       "2    NaN NaN  NaN  \n",
       "3    NaN NaN  NaN  \n",
       "4    NaN NaN  NaN  \n",
       "..   ...  ..  ...  \n",
       "203  NaN NaN  NaN  \n",
       "204  NaN NaN  NaN  \n",
       "205  NaN NaN  NaN  \n",
       "206  NaN NaN  NaN  \n",
       "207  NaN NaN  NaN  \n",
       "\n",
       "[208 rows x 34 columns]"
      ]
     },
     "metadata": {},
     "output_type": "display_data"
    }
   ],
   "source": [
    "df = pd.read_csv(\"/home/jik19004/FilesToRun/DINGRESEARCH/5717Proj/parsedLP_Plates.csv\")\n",
    "df.drop(\"Unnamed: 0\", axis = 1, inplace= True)\n",
    "display(df)"
   ]
  },
  {
   "cell_type": "code",
   "execution_count": 5,
   "metadata": {},
   "outputs": [
    {
     "name": "stdout",
     "output_type": "stream",
     "text": [
      "index of Training Partition is: 82\n",
      "index of Valiadtion Partition is: 144\n"
     ]
    }
   ],
   "source": [
    "TrainingPartition = int(len(df) * 0.4) - 1 \n",
    "ValidationPartition = int(len(df) * 0.7) - 1 \n",
    "print(\"index of Training Partition is:\", TrainingPartition) \n",
    "print(\"index of Valiadtion Partition is:\", ValidationPartition) "
   ]
  },
  {
   "cell_type": "code",
   "execution_count": 6,
   "metadata": {},
   "outputs": [
    {
     "name": "stderr",
     "output_type": "stream",
     "text": [
      "2024-04-15 18:10:40.725565: I tensorflow/core/util/port.cc:113] oneDNN custom operations are on. You may see slightly different numerical results due to floating-point round-off errors from different computation orders. To turn them off, set the environment variable `TF_ENABLE_ONEDNN_OPTS=0`.\n",
      "2024-04-15 18:10:40.727438: I external/local_tsl/tsl/cuda/cudart_stub.cc:31] Could not find cuda drivers on your machine, GPU will not be used.\n",
      "2024-04-15 18:10:40.753285: E external/local_xla/xla/stream_executor/cuda/cuda_dnn.cc:9261] Unable to register cuDNN factory: Attempting to register factory for plugin cuDNN when one has already been registered\n",
      "2024-04-15 18:10:40.753304: E external/local_xla/xla/stream_executor/cuda/cuda_fft.cc:607] Unable to register cuFFT factory: Attempting to register factory for plugin cuFFT when one has already been registered\n",
      "2024-04-15 18:10:40.754063: E external/local_xla/xla/stream_executor/cuda/cuda_blas.cc:1515] Unable to register cuBLAS factory: Attempting to register factory for plugin cuBLAS when one has already been registered\n",
      "2024-04-15 18:10:40.758709: I external/local_tsl/tsl/cuda/cudart_stub.cc:31] Could not find cuda drivers on your machine, GPU will not be used.\n",
      "2024-04-15 18:10:40.759269: I tensorflow/core/platform/cpu_feature_guard.cc:182] This TensorFlow binary is optimized to use available CPU instructions in performance-critical operations.\n",
      "To enable the following instructions: AVX2 AVX512F AVX512_VNNI FMA, in other operations, rebuild TensorFlow with the appropriate compiler flags.\n",
      "2024-04-15 18:10:41.329939: W tensorflow/compiler/tf2tensorrt/utils/py_utils.cc:38] TF-TRT Warning: Could not find TensorRT\n"
     ]
    },
    {
     "name": "stdout",
     "output_type": "stream",
     "text": [
      "['/home/jik19004/FilesToRun/DINGRESEARCH/5717Proj/LP-Dataset/LP-characters/images/0163.png', '/home/jik19004/FilesToRun/DINGRESEARCH/5717Proj/LP-Dataset/LP-characters/images/0164.png', '/home/jik19004/FilesToRun/DINGRESEARCH/5717Proj/LP-Dataset/LP-characters/images/0167.png', '/home/jik19004/FilesToRun/DINGRESEARCH/5717Proj/LP-Dataset/LP-characters/images/0168.png', '/home/jik19004/FilesToRun/DINGRESEARCH/5717Proj/LP-Dataset/LP-characters/images/0169.png', '/home/jik19004/FilesToRun/DINGRESEARCH/5717Proj/LP-Dataset/LP-characters/images/0170.png', '/home/jik19004/FilesToRun/DINGRESEARCH/5717Proj/LP-Dataset/LP-characters/images/0171.png', '/home/jik19004/FilesToRun/DINGRESEARCH/5717Proj/LP-Dataset/LP-characters/images/0172.png', '/home/jik19004/FilesToRun/DINGRESEARCH/5717Proj/LP-Dataset/LP-characters/images/0173.png', '/home/jik19004/FilesToRun/DINGRESEARCH/5717Proj/LP-Dataset/LP-characters/images/0174.png', '/home/jik19004/FilesToRun/DINGRESEARCH/5717Proj/LP-Dataset/LP-characters/images/0176.png', '/home/jik19004/FilesToRun/DINGRESEARCH/5717Proj/LP-Dataset/LP-characters/images/0177.png', '/home/jik19004/FilesToRun/DINGRESEARCH/5717Proj/LP-Dataset/LP-characters/images/0178.png', '/home/jik19004/FilesToRun/DINGRESEARCH/5717Proj/LP-Dataset/LP-characters/images/0179.png', '/home/jik19004/FilesToRun/DINGRESEARCH/5717Proj/LP-Dataset/LP-characters/images/0181.png', '/home/jik19004/FilesToRun/DINGRESEARCH/5717Proj/LP-Dataset/LP-characters/images/0183.png', '/home/jik19004/FilesToRun/DINGRESEARCH/5717Proj/LP-Dataset/LP-characters/images/0184.png', '/home/jik19004/FilesToRun/DINGRESEARCH/5717Proj/LP-Dataset/LP-characters/images/0185.png', '/home/jik19004/FilesToRun/DINGRESEARCH/5717Proj/LP-Dataset/LP-characters/images/0186.png', '/home/jik19004/FilesToRun/DINGRESEARCH/5717Proj/LP-Dataset/LP-characters/images/0187.png', '/home/jik19004/FilesToRun/DINGRESEARCH/5717Proj/LP-Dataset/LP-characters/images/0188.png', '/home/jik19004/FilesToRun/DINGRESEARCH/5717Proj/LP-Dataset/LP-characters/images/0189.png', '/home/jik19004/FilesToRun/DINGRESEARCH/5717Proj/LP-Dataset/LP-characters/images/0190.png', '/home/jik19004/FilesToRun/DINGRESEARCH/5717Proj/LP-Dataset/LP-characters/images/0191.png', '/home/jik19004/FilesToRun/DINGRESEARCH/5717Proj/LP-Dataset/LP-characters/images/0192.png', '/home/jik19004/FilesToRun/DINGRESEARCH/5717Proj/LP-Dataset/LP-characters/images/0193.png', '/home/jik19004/FilesToRun/DINGRESEARCH/5717Proj/LP-Dataset/LP-characters/images/0195.png', '/home/jik19004/FilesToRun/DINGRESEARCH/5717Proj/LP-Dataset/LP-characters/images/0198.png', '/home/jik19004/FilesToRun/DINGRESEARCH/5717Proj/LP-Dataset/LP-characters/images/0199.png', '/home/jik19004/FilesToRun/DINGRESEARCH/5717Proj/LP-Dataset/LP-characters/images/0201.png', '/home/jik19004/FilesToRun/DINGRESEARCH/5717Proj/LP-Dataset/LP-characters/images/0202.png', '/home/jik19004/FilesToRun/DINGRESEARCH/5717Proj/LP-Dataset/LP-characters/images/0203.png', '/home/jik19004/FilesToRun/DINGRESEARCH/5717Proj/LP-Dataset/LP-characters/images/0204.png', '/home/jik19004/FilesToRun/DINGRESEARCH/5717Proj/LP-Dataset/LP-characters/images/0205.png', '/home/jik19004/FilesToRun/DINGRESEARCH/5717Proj/LP-Dataset/LP-characters/images/0206.png', '/home/jik19004/FilesToRun/DINGRESEARCH/5717Proj/LP-Dataset/LP-characters/images/0207.png', '/home/jik19004/FilesToRun/DINGRESEARCH/5717Proj/LP-Dataset/LP-characters/images/0208.png', '/home/jik19004/FilesToRun/DINGRESEARCH/5717Proj/LP-Dataset/LP-characters/images/0209.png', '/home/jik19004/FilesToRun/DINGRESEARCH/5717Proj/LP-Dataset/LP-characters/images/0210.png', '/home/jik19004/FilesToRun/DINGRESEARCH/5717Proj/LP-Dataset/LP-characters/images/0211.png', '/home/jik19004/FilesToRun/DINGRESEARCH/5717Proj/LP-Dataset/LP-characters/images/0212.png', '/home/jik19004/FilesToRun/DINGRESEARCH/5717Proj/LP-Dataset/LP-characters/images/0213.png', '/home/jik19004/FilesToRun/DINGRESEARCH/5717Proj/LP-Dataset/LP-characters/images/0214.png', '/home/jik19004/FilesToRun/DINGRESEARCH/5717Proj/LP-Dataset/LP-characters/images/0215.png', '/home/jik19004/FilesToRun/DINGRESEARCH/5717Proj/LP-Dataset/LP-characters/images/0216.png', '/home/jik19004/FilesToRun/DINGRESEARCH/5717Proj/LP-Dataset/LP-characters/images/0217.png', '/home/jik19004/FilesToRun/DINGRESEARCH/5717Proj/LP-Dataset/LP-characters/images/0218.png', '/home/jik19004/FilesToRun/DINGRESEARCH/5717Proj/LP-Dataset/LP-characters/images/0219.png', '/home/jik19004/FilesToRun/DINGRESEARCH/5717Proj/LP-Dataset/LP-characters/images/0220.png', '/home/jik19004/FilesToRun/DINGRESEARCH/5717Proj/LP-Dataset/LP-characters/images/0221.png', '/home/jik19004/FilesToRun/DINGRESEARCH/5717Proj/LP-Dataset/LP-characters/images/0222.png', '/home/jik19004/FilesToRun/DINGRESEARCH/5717Proj/LP-Dataset/LP-characters/images/0223.png', '/home/jik19004/FilesToRun/DINGRESEARCH/5717Proj/LP-Dataset/LP-characters/images/0224.png', '/home/jik19004/FilesToRun/DINGRESEARCH/5717Proj/LP-Dataset/LP-characters/images/0226.png', '/home/jik19004/FilesToRun/DINGRESEARCH/5717Proj/LP-Dataset/LP-characters/images/0227.png', '/home/jik19004/FilesToRun/DINGRESEARCH/5717Proj/LP-Dataset/LP-characters/images/0228.png', '/home/jik19004/FilesToRun/DINGRESEARCH/5717Proj/LP-Dataset/LP-characters/images/0229.png', '/home/jik19004/FilesToRun/DINGRESEARCH/5717Proj/LP-Dataset/LP-characters/images/0230.png', '/home/jik19004/FilesToRun/DINGRESEARCH/5717Proj/LP-Dataset/LP-characters/images/0231.png', '/home/jik19004/FilesToRun/DINGRESEARCH/5717Proj/LP-Dataset/LP-characters/images/0232.png', '/home/jik19004/FilesToRun/DINGRESEARCH/5717Proj/LP-Dataset/LP-characters/images/0233.png', '/home/jik19004/FilesToRun/DINGRESEARCH/5717Proj/LP-Dataset/LP-characters/images/0234.png', '/home/jik19004/FilesToRun/DINGRESEARCH/5717Proj/LP-Dataset/LP-characters/images/0235.png', '/home/jik19004/FilesToRun/DINGRESEARCH/5717Proj/LP-Dataset/LP-characters/images/0236.png']\n"
     ]
    }
   ],
   "source": [
    "from torchmetrics.text import CharErrorRate\n",
    "import os \n",
    "\n",
    "ImageFiles = [os.path.join('/home/jik19004/FilesToRun/DINGRESEARCH/5717Proj/LP-Dataset/LP-characters/images', file)\n",
    "                   for file in os.listdir('/home/jik19004/FilesToRun/DINGRESEARCH/5717Proj/LP-Dataset/LP-characters/images')] # get the file content. TestingDataList = ImageFiles[144:]\n",
    "ImageFiles = sorted(ImageFiles)\n",
    "TestingDataList = ImageFiles[144:]\n",
    "print(TestingDataList)"
   ]
  },
  {
   "cell_type": "code",
   "execution_count": 7,
   "metadata": {},
   "outputs": [
    {
     "name": "stdout",
     "output_type": "stream",
     "text": [
      "5\n",
      "0\n",
      "MhIL\n",
      "9239\n",
      "IND\n",
      "Cn\n"
     ]
    }
   ],
   "source": [
    "pred = reader.readtext(\"/home/jik19004/FilesToRun/DINGRESEARCH/5717Proj/LP-Dataset/LP-characters/images/0167.png\")\n",
    "print(len(pred))\n",
    "for i in pred: \n",
    "    print(i[1])"
   ]
  },
  {
   "cell_type": "code",
   "execution_count": 8,
   "metadata": {},
   "outputs": [
    {
     "data": {
      "text/plain": [
       "'aaadfs'"
      ]
     },
     "execution_count": 8,
     "metadata": {},
     "output_type": "execute_result"
    }
   ],
   "source": [
    "x= \"aaa--dfs\"\n",
    "x.replace(\"-\",\"\")"
   ]
  },
  {
   "cell_type": "code",
   "execution_count": 11,
   "metadata": {},
   "outputs": [],
   "source": [
    "## Concatenate each of the broken pieces together as a whole. \n",
    "## Evaluate using Character Error Rate, (CER) with predictions and actual testing output. \n",
    "def Predictions(): \n",
    "    PredictionsList = [] \n",
    "    for i in TestingDataList:\n",
    "        x = reader.readtext(i)\n",
    "        char = \"\"\n",
    "        if len(x) == 1: \n",
    "            char = x[0][1]\n",
    "            char = char.upper()\n",
    "            char = char.replace(\"-\",\"\")\n",
    "            char = char.replace(\" \",\"\")\n",
    "        else:\n",
    "            for j in x:\n",
    "                char+= j[1]\n",
    "                char = char.upper()\n",
    "                char = char.replace(\"-\",\"\")\n",
    "                char = char.replace(\" \",\"\")\n",
    "        PredictionsList.append(char)\n",
    "    return PredictionsList"
   ]
  },
  {
   "cell_type": "code",
   "execution_count": 12,
   "metadata": {},
   "outputs": [
    {
     "name": "stdout",
     "output_type": "stream",
     "text": [
      "['HR2GDKO830', 'HR26CT6702', '0MHIL9239INDCN', 'FHR260G6167', 'NN6IOZBRMDD|', 'NUMERIXEUROKL38F50083_._', 'FLUSSH', '\"KLOIBR8055', 'KLO1CA2555', 'KL0LCC50_', 'KA011330', 'KA@6989', '017887666', 'MII2OBN3525', \"MH:'01AR5274\", 'YMH20EE7598', 'MHZODJ0419', 'MH20EE0943', 'MH20DV2362', 'MH2OCS4946', 'KL12G753', 'KL7BZ99', 'IN45BA1065]', 'KL54H369', 'KL?53E964', 'MHOIND\"812586]', '\"KA03NA8385', 'MH14TCD204', 'MH14EH5819', 'MHI4EP4660', 'MH14DT8831', 'MH14TCF300', 'NHO1AV8866', '[N59A07515]', 'MH15TC554', \"MH'206IANM14TC'\", 'MH12JC2813', 'IN07BU5427', 'MHD3BS7778', 'MH14E43498', 'HHZOEE7597', '1N4268DL', 'FHH14EH7958', 'MH14ICF460', 'MIH:20EE45', 'TN38BW1139', 'TNZLAL5074', 'KLOAXEOOO', 'KLG0N5344', 'PBO8CX2959]', 'FKA292999]', 'KA19FR0212010*2011', 'MHZOBY3665', 'WP16IC1366|', 'HR26DA04711', 'HR26CR3302', 'HR26BP3543', 'HR26CT6702', 'MBONPZOD', 'MMHQ2OBN3525', 'MF0IAA5274', 'M#20CS1941', 'LH2OCS1938', 'HH14DT8831']\n"
     ]
    }
   ],
   "source": [
    "PList = Predictions()\n",
    "print(PList)"
   ]
  },
  {
   "cell_type": "code",
   "execution_count": 21,
   "metadata": {},
   "outputs": [
    {
     "name": "stderr",
     "output_type": "stream",
     "text": [
      "/tmp/ipykernel_2670/2619812252.py:3: SettingWithCopyWarning: \n",
      "A value is trying to be set on a copy of a slice from a DataFrame\n",
      "\n",
      "See the caveats in the documentation: https://pandas.pydata.org/pandas-docs/stable/user_guide/indexing.html#returning-a-view-versus-a-copy\n",
      "  Testing_CSV.drop(\"Unnamed: 0\", inplace = True, axis = 1)\n"
     ]
    },
    {
     "data": {
      "text/plain": [
       "144    HR26DK0830\n",
       "145    HR26CT6702\n",
       "146    MH14GN9239\n",
       "147    HR26DG6167\n",
       "148    GJ07BR1336\n",
       "          ...    \n",
       "203    MH2OBN3525\n",
       "204    MH01AR5274\n",
       "205    MH20CS1941\n",
       "206     H20CS1938\n",
       "207    MH14DT8831\n",
       "Name: 0, Length: 64, dtype: object"
      ]
     },
     "metadata": {},
     "output_type": "display_data"
    }
   ],
   "source": [
    "CSV_file = pd.read_csv(\"/home/jik19004/FilesToRun/DINGRESEARCH/5717Proj/parsedLP_Plates.csv\")\n",
    "Testing_CSV = CSV_file.iloc[144:, :]\n",
    "Testing_CSV.drop(\"Unnamed: 0\", inplace = True, axis = 1)\n",
    "Testing_array = Testing_CSV.iloc[:, 0]\n",
    "display(Testing_array)"
   ]
  },
  {
   "cell_type": "code",
   "execution_count": 25,
   "metadata": {},
   "outputs": [
    {
     "name": "stdout",
     "output_type": "stream",
     "text": [
      "The accuracy is: tensor(0.2523)\n"
     ]
    }
   ],
   "source": [
    "C_ER = CharErrorRate()\n",
    "errorRate = C_ER(Testing_array, PList)\n",
    "print(\"The accuracy is:\", errorRate)"
   ]
  },
  {
   "cell_type": "code",
   "execution_count": 26,
   "metadata": {},
   "outputs": [
    {
     "name": "stdout",
     "output_type": "stream",
     "text": [
      "['a', 's', 'd', 'f']\n"
     ]
    }
   ],
   "source": [
    "actual = \"asdf\"\n",
    "actual = list(actual)\n",
    "print(actual)"
   ]
  },
  {
   "cell_type": "code",
   "execution_count": 37,
   "metadata": {},
   "outputs": [],
   "source": [
    "Testing_array = np.array(Testing_array)\n",
    "PList = np.array(PList)"
   ]
  },
  {
   "cell_type": "code",
   "execution_count": 40,
   "metadata": {},
   "outputs": [
    {
     "name": "stdout",
     "output_type": "stream",
     "text": [
      "[2, 0, 14, 11, 12, 24, 0, 10, 1, 2, 5, 9, 4, 10, 10, 10, 2, 0, 0, 1, 1, 0, 2, 0, 7, 12, 11, 0, 2, 1, 0, 0, 2, 4, 3, 14, 0, 5, 1, 1, 5, 8, 9, 1, 9, 0, 4, 8, 1, 2, 8, 11, 2, 3, 1, 0, 0, 0, 6, 10, 3, 1, 10, 1]\n"
     ]
    }
   ],
   "source": [
    "def ErrorRateList(Testing_array = Testing_array, PList = PList): \n",
    "    ListOfErrors = [] \n",
    "    for i in range(len(Testing_array)):\n",
    "        Actual = Testing_array[i]\n",
    "        Actual = list(Actual)\n",
    "        Pred = PList[i]\n",
    "        Pred = list(Pred)\n",
    "\n",
    "        Actual_len = len(Actual)\n",
    "        Pred_len = len(Pred)\n",
    "    \n",
    "        index = 0 \n",
    "        error = 0 \n",
    "        while index < Actual_len and index < Pred_len: \n",
    "            if Actual[index] != Pred[index]:\n",
    "                error+=1 \n",
    "            index +=1\n",
    "        if abs(Actual_len - Pred_len) != 0: \n",
    "            error += (abs(Actual_len - Pred_len))\n",
    "        ListOfErrors.append(error)\n",
    "    return ListOfErrors\n",
    "\n",
    "ListOfErrors = ErrorRateList()\n",
    "print(ListOfErrors)    \n",
    "            "
   ]
  },
  {
   "cell_type": "code",
   "execution_count": 49,
   "metadata": {},
   "outputs": [
    {
     "data": {
      "text/plain": [
       "([<matplotlib.axis.XTick at 0x7efe3453e220>,\n",
       "  <matplotlib.axis.XTick at 0x7efe3453e1f0>,\n",
       "  <matplotlib.axis.XTick at 0x7efe3c073a00>,\n",
       "  <matplotlib.axis.XTick at 0x7efe3451a2e0>,\n",
       "  <matplotlib.axis.XTick at 0x7efe3451ad90>,\n",
       "  <matplotlib.axis.XTick at 0x7efe345202e0>,\n",
       "  <matplotlib.axis.XTick at 0x7efe34520d90>,\n",
       "  <matplotlib.axis.XTick at 0x7efe34527880>,\n",
       "  <matplotlib.axis.XTick at 0x7efe3452c370>,\n",
       "  <matplotlib.axis.XTick at 0x7efe34527100>,\n",
       "  <matplotlib.axis.XTick at 0x7efe3452cd90>,\n",
       "  <matplotlib.axis.XTick at 0x7efe34533880>,\n",
       "  <matplotlib.axis.XTick at 0x7efe344b9370>],\n",
       " [Text(0, 0, '0'),\n",
       "  Text(2, 0, '2'),\n",
       "  Text(4, 0, '4'),\n",
       "  Text(6, 0, '6'),\n",
       "  Text(8, 0, '8'),\n",
       "  Text(10, 0, '10'),\n",
       "  Text(12, 0, '12'),\n",
       "  Text(14, 0, '14'),\n",
       "  Text(16, 0, '16'),\n",
       "  Text(18, 0, '18'),\n",
       "  Text(20, 0, '20'),\n",
       "  Text(22, 0, '22'),\n",
       "  Text(24, 0, '24')])"
      ]
     },
     "execution_count": 49,
     "metadata": {},
     "output_type": "execute_result"
    },
    {
     "data": {
      "image/png": "[encoded data removed]",
      "text/plain": [
       "<Figure size 640x480 with 1 Axes>"
      ]
     },
     "metadata": {},
     "output_type": "display_data"
    }
   ],
   "source": [
    "import matplotlib.pyplot as plt \n",
    "\n",
    "plt.hist(x = ListOfErrors, bins = range(min(ListOfErrors), max(ListOfErrors)+1))\n",
    "plt.xlabel(\"Number of Characters Incorrect\")\n",
    "plt.ylabel(\"Frequency of Characters\")\n",
    "\n",
    "plt.grid()\n",
    "plt.xticks(range(min(ListOfErrors), max(ListOfErrors)+1, 2))"
   ]
  }
 ],
 "metadata": {
  "kernelspec": {
   "display_name": "base",
   "language": "python",
   "name": "python3"
  },
  "language_info": {
   "codemirror_mode": {
    "name": "ipython",
    "version": 3
   },
   "file_extension": ".py",
   "mimetype": "text/x-python",
   "name": "python",
   "nbconvert_exporter": "python",
   "pygments_lexer": "ipython3",
   "version": "3.9.13"
  }
 },
 "nbformat": 4,
 "nbformat_minor": 2
}
