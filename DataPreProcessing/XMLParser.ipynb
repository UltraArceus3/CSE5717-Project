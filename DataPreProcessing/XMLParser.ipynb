{
 "cells": [
  {
   "cell_type": "code",
   "execution_count": 3,
   "metadata": {},
   "outputs": [],
   "source": [
    "import numpy as np \n",
    "import pandas as pd \n",
    "import matplotlib.pyplot as plt "
   ]
  },
  {
   "cell_type": "code",
   "execution_count": 4,
   "metadata": {},
   "outputs": [
    {
     "name": "stdout",
     "output_type": "stream",
     "text": [
      "<DOM Element: annotation at 0x7fcb89903130>\n"
     ]
    }
   ],
   "source": [
    "import xml.dom.minidom\n",
    "xml_doc = xml.dom.minidom.parse('/home/jik19004/FilesToRun/5717/LP-Dataset/LP-characters/annotations/0000.xml')\n",
    "root = xml_doc.documentElement \n",
    "print(root)\n"
   ]
  },
  {
   "cell_type": "code",
   "execution_count": 5,
   "metadata": {},
   "outputs": [],
   "source": [
    "import xml.etree.ElementTree as ET\n",
    "\n",
    "def parse_xml(xml_file):\n",
    "    \"\"\"Parses the XML file and extracts the formatted character data.\n",
    "\n",
    "    Args:\n",
    "        xml_file (str): Path to the XML file.\n",
    "\n",
    "    Returns:\n",
    "        str: A single string in the format:\n",
    "             \"char1char2char3..., char1, <xmin, ymin, xmax, ymax>, char2, <xmin, ymin, xmax, ymax>, ...\"\n",
    "    \"\"\"\n",
    "    tree = ET.parse(xml_file)\n",
    "    root = tree.getroot()\n",
    "\n",
    "    data_string2 = \"\"\n",
    "    characterCoord = []\n",
    "    # Iterate through the characters\n",
    "    for obj in root.iter('object'):\n",
    "        character = obj.find('name').text \n",
    "        data_string2 += character \n",
    "        bndbox = obj.find('bndbox')\n",
    "        xmin = int(bndbox.find('xmin').text)\n",
    "        ymin = int(bndbox.find('ymin').text)\n",
    "        xmax = int(bndbox.find('xmax').text)\n",
    "        ymax = int(bndbox.find('ymax').text)\n",
    "        \n",
    "        Coord = [xmin, ymin, xmax, ymax]\n",
    "        characterCoord.append(character)\n",
    "        characterCoord.append(f\"{'-'.join(str(x) for x in Coord)}\")\n",
    "        \n",
    "\n",
    "#string_result = f\"{c}<{', '.join(str(x) for x in my_list)}>\"\n",
    "    characterCoord.insert(0, data_string2)\n",
    "    return characterCoord\n",
    "\n"
   ]
  },
  {
   "cell_type": "code",
   "execution_count": 6,
   "metadata": {},
   "outputs": [],
   "source": [
    "data2 = parse_xml(\"/home/jik19004/FilesToRun/5717/LP-Dataset/LP-characters/annotations/0000.xml\")"
   ]
  },
  {
   "cell_type": "code",
   "execution_count": 16,
   "metadata": {},
   "outputs": [
    {
     "ename": "ValueError",
     "evalue": "cannot set a row with mismatched columns",
     "output_type": "error",
     "traceback": [
      "\u001b[0;31m---------------------------------------------------------------------------\u001b[0m",
      "\u001b[0;31mValueError\u001b[0m                                Traceback (most recent call last)",
      "\u001b[1;32m/home/jik19004/FilesToRun/5717/OCRExtraction.ipynb Cell 5\u001b[0m line \u001b[0;36m8\n\u001b[1;32m      <a href='vscode-notebook-cell://ssh-remote%2B137.99.3.174/home/jik19004/FilesToRun/5717/OCRExtraction.ipynb#X13sdnNjb2RlLXJlbW90ZQ%3D%3D?line=4'>5</a>\u001b[0m new_row \u001b[39m=\u001b[39m [\u001b[39m6\u001b[39m, \u001b[39m60\u001b[39m, \u001b[39m600\u001b[39m, \u001b[39m7\u001b[39m, \u001b[39m8\u001b[39m, \u001b[39m9\u001b[39m, \u001b[39m10\u001b[39m, \u001b[39m11\u001b[39m, \u001b[39m12\u001b[39m, \u001b[39m13\u001b[39m]  \n\u001b[1;32m      <a href='vscode-notebook-cell://ssh-remote%2B137.99.3.174/home/jik19004/FilesToRun/5717/OCRExtraction.ipynb#X13sdnNjb2RlLXJlbW90ZQ%3D%3D?line=6'>7</a>\u001b[0m \u001b[39m# Add the row with NaN values\u001b[39;00m\n\u001b[0;32m----> <a href='vscode-notebook-cell://ssh-remote%2B137.99.3.174/home/jik19004/FilesToRun/5717/OCRExtraction.ipynb#X13sdnNjb2RlLXJlbW90ZQ%3D%3D?line=7'>8</a>\u001b[0m df\u001b[39m.\u001b[39;49mloc[\u001b[39mlen\u001b[39;49m(df\u001b[39m.\u001b[39;49mindex)] \u001b[39m=\u001b[39m new_row  \n\u001b[1;32m      <a href='vscode-notebook-cell://ssh-remote%2B137.99.3.174/home/jik19004/FilesToRun/5717/OCRExtraction.ipynb#X13sdnNjb2RlLXJlbW90ZQ%3D%3D?line=8'>9</a>\u001b[0m \u001b[39mprint\u001b[39m(df)\n",
      "File \u001b[0;32m/anaconda3/envs/DQuant/lib/python3.10/site-packages/pandas/core/indexing.py:818\u001b[0m, in \u001b[0;36m_LocationIndexer.__setitem__\u001b[0;34m(self, key, value)\u001b[0m\n\u001b[1;32m    815\u001b[0m \u001b[39mself\u001b[39m\u001b[39m.\u001b[39m_has_valid_setitem_indexer(key)\n\u001b[1;32m    817\u001b[0m iloc \u001b[39m=\u001b[39m \u001b[39mself\u001b[39m \u001b[39mif\u001b[39;00m \u001b[39mself\u001b[39m\u001b[39m.\u001b[39mname \u001b[39m==\u001b[39m \u001b[39m\"\u001b[39m\u001b[39miloc\u001b[39m\u001b[39m\"\u001b[39m \u001b[39melse\u001b[39;00m \u001b[39mself\u001b[39m\u001b[39m.\u001b[39mobj\u001b[39m.\u001b[39miloc\n\u001b[0;32m--> 818\u001b[0m iloc\u001b[39m.\u001b[39;49m_setitem_with_indexer(indexer, value, \u001b[39mself\u001b[39;49m\u001b[39m.\u001b[39;49mname)\n",
      "File \u001b[0;32m/anaconda3/envs/DQuant/lib/python3.10/site-packages/pandas/core/indexing.py:1785\u001b[0m, in \u001b[0;36m_iLocIndexer._setitem_with_indexer\u001b[0;34m(self, indexer, value, name)\u001b[0m\n\u001b[1;32m   1782\u001b[0m     indexer, missing \u001b[39m=\u001b[39m convert_missing_indexer(indexer)\n\u001b[1;32m   1784\u001b[0m     \u001b[39mif\u001b[39;00m missing:\n\u001b[0;32m-> 1785\u001b[0m         \u001b[39mself\u001b[39;49m\u001b[39m.\u001b[39;49m_setitem_with_indexer_missing(indexer, value)\n\u001b[1;32m   1786\u001b[0m         \u001b[39mreturn\u001b[39;00m\n\u001b[1;32m   1788\u001b[0m \u001b[39mif\u001b[39;00m name \u001b[39m==\u001b[39m \u001b[39m\"\u001b[39m\u001b[39mloc\u001b[39m\u001b[39m\"\u001b[39m:\n\u001b[1;32m   1789\u001b[0m     \u001b[39m# must come after setting of missing\u001b[39;00m\n",
      "File \u001b[0;32m/anaconda3/envs/DQuant/lib/python3.10/site-packages/pandas/core/indexing.py:2160\u001b[0m, in \u001b[0;36m_iLocIndexer._setitem_with_indexer_missing\u001b[0;34m(self, indexer, value)\u001b[0m\n\u001b[1;32m   2157\u001b[0m     \u001b[39mif\u001b[39;00m is_list_like_indexer(value):\n\u001b[1;32m   2158\u001b[0m         \u001b[39m# must have conforming columns\u001b[39;00m\n\u001b[1;32m   2159\u001b[0m         \u001b[39mif\u001b[39;00m \u001b[39mlen\u001b[39m(value) \u001b[39m!=\u001b[39m \u001b[39mlen\u001b[39m(\u001b[39mself\u001b[39m\u001b[39m.\u001b[39mobj\u001b[39m.\u001b[39mcolumns):\n\u001b[0;32m-> 2160\u001b[0m             \u001b[39mraise\u001b[39;00m \u001b[39mValueError\u001b[39;00m(\u001b[39m\"\u001b[39m\u001b[39mcannot set a row with mismatched columns\u001b[39m\u001b[39m\"\u001b[39m)\n\u001b[1;32m   2162\u001b[0m     value \u001b[39m=\u001b[39m Series(value, index\u001b[39m=\u001b[39m\u001b[39mself\u001b[39m\u001b[39m.\u001b[39mobj\u001b[39m.\u001b[39mcolumns, name\u001b[39m=\u001b[39mindexer)\n\u001b[1;32m   2164\u001b[0m \u001b[39mif\u001b[39;00m \u001b[39mnot\u001b[39;00m \u001b[39mlen\u001b[39m(\u001b[39mself\u001b[39m\u001b[39m.\u001b[39mobj):\n\u001b[1;32m   2165\u001b[0m     \u001b[39m# We will ignore the existing dtypes instead of using\u001b[39;00m\n\u001b[1;32m   2166\u001b[0m     \u001b[39m#  internals.concat logic\u001b[39;00m\n",
      "\u001b[0;31mValueError\u001b[0m: cannot set a row with mismatched columns"
     ]
    }
   ],
   "source": [
    "data = {'A': [1, 2, 3, 4, 5], 'B': [10, 20, 30, 40, 50], 'C': [100, 200, 300, 400, 500]}\n",
    "df = pd.DataFrame(data)\n",
    "\n",
    "# New row with extra columns\n",
    "new_row = [6, 60, 600, 7, 8, 9, 10, 11, 12, 13]  \n",
    "\n",
    "# Add the row with NaN values\n",
    "df.loc[len(df.index)] = new_row  \n",
    "print(df)"
   ]
  },
  {
   "cell_type": "code",
   "execution_count": 36,
   "metadata": {},
   "outputs": [],
   "source": [
    "import os \n",
    "def ExtractingParsedFiles(): \n",
    "    ### returns a pandas dataframe of parsed xml files. \n",
    "    listOfFiles = [os.path.join('/home/jik19004/FilesToRun/5717/LP-Dataset/LP-characters/annotations', file)\n",
    "                   for file in os.listdir('/home/jik19004/FilesToRun/5717/LP-Dataset/LP-characters/annotations')] # get the file content. \n",
    "    dataframe = pd.DataFrame() # construct empty dataframe. \n",
    "    for xml_file in listOfFiles: \n",
    "        characterCoord = parse_xml(xml_file)\n",
    "        length = len(characterCoord)\n",
    "        characterCoord = np.array(characterCoord).reshape(1, length)\n",
    "        dataframe = pd.concat([dataframe,pd.DataFrame(characterCoord)]) \n",
    "    return dataframe\n",
    "\n",
    "dataframe = ExtractingParsedFiles() \n",
    "\n",
    "\n",
    "        \n",
    "        "
   ]
  },
  {
   "cell_type": "code",
   "execution_count": 35,
   "metadata": {},
   "outputs": [
    {
     "name": "stdout",
     "output_type": "stream",
     "text": [
      "[['AA29Z999' 'A' '25-12-43-37' 'A' '44-12-60-39' '2' '68-14-86-39' '9'\n",
      "  '87-14-102-38' 'Z' '113-12-129-38' '9' '140-11-154-36' '9'\n",
      "  '158-11-173-35' '9' '174-10-188-35']]\n",
      "(1, 17)\n"
     ]
    },
    {
     "data": {
      "text/html": [
       "<div>\n",
       "<style scoped>\n",
       "    .dataframe tbody tr th:only-of-type {\n",
       "        vertical-align: middle;\n",
       "    }\n",
       "\n",
       "    .dataframe tbody tr th {\n",
       "        vertical-align: top;\n",
       "    }\n",
       "\n",
       "    .dataframe thead th {\n",
       "        text-align: right;\n",
       "    }\n",
       "</style>\n",
       "<table border=\"1\" class=\"dataframe\">\n",
       "  <thead>\n",
       "    <tr style=\"text-align: right;\">\n",
       "      <th></th>\n",
       "      <th>0</th>\n",
       "      <th>1</th>\n",
       "      <th>2</th>\n",
       "      <th>3</th>\n",
       "      <th>4</th>\n",
       "      <th>5</th>\n",
       "      <th>6</th>\n",
       "      <th>7</th>\n",
       "      <th>8</th>\n",
       "      <th>9</th>\n",
       "      <th>10</th>\n",
       "      <th>11</th>\n",
       "      <th>12</th>\n",
       "      <th>13</th>\n",
       "      <th>14</th>\n",
       "      <th>15</th>\n",
       "      <th>16</th>\n",
       "    </tr>\n",
       "  </thead>\n",
       "  <tbody>\n",
       "    <tr>\n",
       "      <th>0</th>\n",
       "      <td>AA29Z999</td>\n",
       "      <td>A</td>\n",
       "      <td>25-12-43-37</td>\n",
       "      <td>A</td>\n",
       "      <td>44-12-60-39</td>\n",
       "      <td>2</td>\n",
       "      <td>68-14-86-39</td>\n",
       "      <td>9</td>\n",
       "      <td>87-14-102-38</td>\n",
       "      <td>Z</td>\n",
       "      <td>113-12-129-38</td>\n",
       "      <td>9</td>\n",
       "      <td>140-11-154-36</td>\n",
       "      <td>9</td>\n",
       "      <td>158-11-173-35</td>\n",
       "      <td>9</td>\n",
       "      <td>174-10-188-35</td>\n",
       "    </tr>\n",
       "  </tbody>\n",
       "</table>\n",
       "</div>"
      ],
      "text/plain": [
       "         0  1            2  3            4  5            6  7             8   \\\n",
       "0  AA29Z999  A  25-12-43-37  A  44-12-60-39  2  68-14-86-39  9  87-14-102-38   \n",
       "\n",
       "  9              10 11             12 13             14 15             16  \n",
       "0  Z  113-12-129-38  9  140-11-154-36  9  158-11-173-35  9  174-10-188-35  "
      ]
     },
     "execution_count": 35,
     "metadata": {},
     "output_type": "execute_result"
    }
   ],
   "source": [
    "p = np.array(parse_xml(\"/home/jik19004/FilesToRun/5717/LP-Dataset/LP-characters/annotations/0222.xml\")).reshape(-1, len(parse_xml(\"/home/jik19004/FilesToRun/5717/LP-Dataset/LP-characters/annotations/0222.xml\")))\n",
    "print(p)\n",
    "print(p.shape)\n",
    "pd.DataFrame(p)"
   ]
  },
  {
   "cell_type": "code",
   "execution_count": null,
   "metadata": {},
   "outputs": [],
   "source": []
  }
 ],
 "metadata": {
  "kernelspec": {
   "display_name": "DQuant",
   "language": "python",
   "name": "python3"
  },
  "language_info": {
   "codemirror_mode": {
    "name": "ipython",
    "version": 3
   },
   "file_extension": ".py",
   "mimetype": "text/x-python",
   "name": "python",
   "nbconvert_exporter": "python",
   "pygments_lexer": "ipython3",
   "version": "3.10.12"
  }
 },
 "nbformat": 4,
 "nbformat_minor": 2
}
