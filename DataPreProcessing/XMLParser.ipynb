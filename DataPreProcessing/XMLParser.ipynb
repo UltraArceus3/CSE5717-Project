{
 "cells": [
  {
   "cell_type": "code",
   "execution_count": 40,
   "metadata": {},
   "outputs": [],
   "source": [
    "import numpy as np \n",
    "import pandas as pd \n",
    "import matplotlib.pyplot as plt "
   ]
  },
  {
   "cell_type": "code",
   "execution_count": 41,
   "metadata": {},
   "outputs": [
    {
     "name": "stdout",
     "output_type": "stream",
     "text": [
      "<DOM Element: annotation at 0x7f555ec74c10>\n"
     ]
    }
   ],
   "source": [
    "import xml.dom.minidom\n",
    "xml_doc = xml.dom.minidom.parse('/home/jik19004/FilesToRun/5717/LP-Dataset/LP-characters/annotations/0000.xml')\n",
    "root = xml_doc.documentElement \n",
    "print(root)\n"
   ]
  },
  {
   "cell_type": "code",
   "execution_count": 42,
   "metadata": {},
   "outputs": [],
   "source": [
    "import xml.etree.ElementTree as ET\n",
    "import os \n",
    "def parse_xml(xml_file):\n",
    "    \"\"\"Parses the XML file and extracts the formatted character data.\n",
    "\n",
    "    Args:\n",
    "        xml_file (str): Path to the XML file.\n",
    "\n",
    "    Returns:\n",
    "        str: A single string in the format:\n",
    "             \"char1char2char3..., char1, <xmin, ymin, xmax, ymax>, char2, <xmin, ymin, xmax, ymax>, ...\"\n",
    "    \"\"\"\n",
    "    tree = ET.parse(xml_file)\n",
    "    root = tree.getroot()\n",
    "\n",
    "    filename = os.path.basename(xml_file)\n",
    "    \n",
    "    \n",
    "    data_string2 = \"\"\n",
    "    characterCoord = []\n",
    "    # Iterate through the characters\n",
    "    for obj in root.iter('object'):\n",
    "        character = obj.find('name').text \n",
    "        data_string2 += character \n",
    "        bndbox = obj.find('bndbox')\n",
    "        xmin = int(bndbox.find('xmin').text)\n",
    "        ymin = int(bndbox.find('ymin').text)\n",
    "        xmax = int(bndbox.find('xmax').text)\n",
    "        ymax = int(bndbox.find('ymax').text)\n",
    "        \n",
    "        Coord = [xmin, ymin, xmax, ymax]\n",
    "        characterCoord.append(character)\n",
    "        characterCoord.append(f\"{'-'.join(str(x) for x in Coord)}\")\n",
    "        \n",
    "\n",
    "#string_result = f\"{c}<{', '.join(str(x) for x in my_list)}>\"\n",
    "    characterCoord.insert(0, data_string2)\n",
    "    characterCoord.insert(1, filename)\n",
    "    return characterCoord\n",
    "\n"
   ]
  },
  {
   "cell_type": "code",
   "execution_count": 43,
   "metadata": {},
   "outputs": [],
   "source": [
    "import os \n",
    "def ExtractingParsedFiles(): \n",
    "    ### returns a pandas dataframe of parsed xml files. \n",
    "    listOfFiles = [os.path.join('/home/jik19004/FilesToRun/5717/LP-Dataset/LP-characters/annotations', file)\n",
    "                   for file in os.listdir('/home/jik19004/FilesToRun/5717/LP-Dataset/LP-characters/annotations')] # get the file content. \n",
    "    listOfFiles = sorted(listOfFiles) # sort the files.\n",
    "    dataframe = pd.DataFrame() # construct empty dataframe. \n",
    "    for xml_file in listOfFiles: \n",
    "        characterCoord = parse_xml(xml_file)\n",
    "        length = len(characterCoord)\n",
    "        characterCoord = np.array(characterCoord).reshape(1, length)\n",
    "        dataframe = pd.concat([dataframe,pd.DataFrame(characterCoord)]) \n",
    "    return dataframe\n",
    "\n",
    "dataframe = ExtractingParsedFiles() \n"
   ]
  },
  {
   "cell_type": "code",
   "execution_count": 45,
   "metadata": {},
   "outputs": [],
   "source": [
    "dataframe.to_csv(\"parsedLP_Plates.csv\")"
   ]
  },
  {
   "cell_type": "code",
   "execution_count": 12,
   "metadata": {},
   "outputs": [
    {
     "name": "stdout",
     "output_type": "stream",
     "text": [
      "[['AA29Z999' 'A' '25-12-43-37' 'A' '44-12-60-39' '2' '68-14-86-39' '9'\n",
      "  '87-14-102-38' 'Z' '113-12-129-38' '9' '140-11-154-36' '9'\n",
      "  '158-11-173-35' '9' '174-10-188-35']]\n",
      "(1, 17)\n"
     ]
    },
    {
     "data": {
      "text/html": [
       "<div>\n",
       "<style scoped>\n",
       "    .dataframe tbody tr th:only-of-type {\n",
       "        vertical-align: middle;\n",
       "    }\n",
       "\n",
       "    .dataframe tbody tr th {\n",
       "        vertical-align: top;\n",
       "    }\n",
       "\n",
       "    .dataframe thead th {\n",
       "        text-align: right;\n",
       "    }\n",
       "</style>\n",
       "<table border=\"1\" class=\"dataframe\">\n",
       "  <thead>\n",
       "    <tr style=\"text-align: right;\">\n",
       "      <th></th>\n",
       "      <th>0</th>\n",
       "      <th>1</th>\n",
       "      <th>2</th>\n",
       "      <th>3</th>\n",
       "      <th>4</th>\n",
       "      <th>5</th>\n",
       "      <th>6</th>\n",
       "      <th>7</th>\n",
       "      <th>8</th>\n",
       "      <th>9</th>\n",
       "      <th>10</th>\n",
       "      <th>11</th>\n",
       "      <th>12</th>\n",
       "      <th>13</th>\n",
       "      <th>14</th>\n",
       "      <th>15</th>\n",
       "      <th>16</th>\n",
       "    </tr>\n",
       "  </thead>\n",
       "  <tbody>\n",
       "    <tr>\n",
       "      <th>0</th>\n",
       "      <td>AA29Z999</td>\n",
       "      <td>A</td>\n",
       "      <td>25-12-43-37</td>\n",
       "      <td>A</td>\n",
       "      <td>44-12-60-39</td>\n",
       "      <td>2</td>\n",
       "      <td>68-14-86-39</td>\n",
       "      <td>9</td>\n",
       "      <td>87-14-102-38</td>\n",
       "      <td>Z</td>\n",
       "      <td>113-12-129-38</td>\n",
       "      <td>9</td>\n",
       "      <td>140-11-154-36</td>\n",
       "      <td>9</td>\n",
       "      <td>158-11-173-35</td>\n",
       "      <td>9</td>\n",
       "      <td>174-10-188-35</td>\n",
       "    </tr>\n",
       "  </tbody>\n",
       "</table>\n",
       "</div>"
      ],
      "text/plain": [
       "         0  1            2  3            4  5            6  7             8   \\\n",
       "0  AA29Z999  A  25-12-43-37  A  44-12-60-39  2  68-14-86-39  9  87-14-102-38   \n",
       "\n",
       "  9              10 11             12 13             14 15             16  \n",
       "0  Z  113-12-129-38  9  140-11-154-36  9  158-11-173-35  9  174-10-188-35  "
      ]
     },
     "execution_count": 12,
     "metadata": {},
     "output_type": "execute_result"
    }
   ],
   "source": [
    "p = np.array(parse_xml(\"/home/jik19004/FilesToRun/5717/LP-Dataset/LP-characters/annotations/0222.xml\")).reshape(-1, len(parse_xml(\"/home/jik19004/FilesToRun/5717/LP-Dataset/LP-characters/annotations/0222.xml\")))\n",
    "print(p)\n",
    "print(p.shape)\n",
    "pd.DataFrame(p)"
   ]
  }
 ],
 "metadata": {
  "kernelspec": {
   "display_name": "DQuant",
   "language": "python",
   "name": "python3"
  },
  "language_info": {
   "codemirror_mode": {
    "name": "ipython",
    "version": 3
   },
   "file_extension": ".py",
   "mimetype": "text/x-python",
   "name": "python",
   "nbconvert_exporter": "python",
   "pygments_lexer": "ipython3",
   "version": "3.10.12"
  }
 },
 "nbformat": 4,
 "nbformat_minor": 2
}
